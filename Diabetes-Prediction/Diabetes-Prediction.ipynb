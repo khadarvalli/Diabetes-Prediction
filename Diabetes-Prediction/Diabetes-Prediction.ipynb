{
 "cells": [
  {
   "cell_type": "markdown",
   "metadata": {
    "id": "J8Z1G_WG1ckt"
   },
   "source": [
    "<div class=\"alert\" style=\"background-color:#fff; color:white; padding:0px 10px; border-radius:5px;\"><h1 style='margin:15px 15px; color:#006a79; font-size:40px'> Diabetes Prediction\n",
    "</h1>\n",
    "</div>\n",
    "\n",
    "Predicting whether the human will be Diabetes or not by using different machine learning classification algorithams. "
   ]
  },
  {
   "cell_type": "markdown",
   "metadata": {
    "id": "CGFNuG-w1cku"
   },
   "source": [
    "### Content:\n",
    "1. Load the Data\n",
    "  - Import libraries\n",
    "  - Load the datasets\n",
    "  \n",
    "2. Overview of the Data\n",
    "  - Descriptive Statistics\n",
    "  - Missing Values\n",
    "  \n",
    "3. Exploratory Data Analysis\n",
    "  - Create list of columns by data type\n",
    "  - Check the distribution of target class\n",
    "  - Check the distribution of every feature\n",
    "  - Check how differnt numerical features are realated to target class\n",
    "  \n",
    "4. Data Preparation\n",
    "  - Data Cleaning\n",
    "  - Feature Encoding\n",
    "  - Split X & y\n",
    "  - Feature Scaling\n",
    "  - Train Test split\n",
    "  \n",
    "5. Model Building\n",
    "  - Train Model\n",
    "  - Model Prediction\n",
    "  - Model Evaluation\n",
    "  \n",
    "7. Improve Model\n",
    "  - Handle Class Imbalance\n",
    "  - Hyperparameter Tuning\n",
    "  - Save the Final Model"
   ]
  },
  {
   "cell_type": "markdown",
   "metadata": {
    "id": "v3CAWyIl1cky"
   },
   "source": [
    "<div class=\"alert alert-info\" style=\"background-color:#006a79; color:white; padding:0px 10px; border-radius:5px;\"><h2 style='margin:10px 5px'>1. Load the Data</h2>\n",
    "</div>\n",
    "\n",
    "In this section you will:\n",
    "\n",
    "- Import the libraries\n",
    "- Load the dataset"
   ]
  },
  {
   "cell_type": "markdown",
   "metadata": {
    "id": "VJ87ElRJ1ckz"
   },
   "source": [
    "### 1.1. Import Libraries\n",
    "\n",
    "Import all the libraries in the first cell itself"
   ]
  },
  {
   "cell_type": "code",
   "execution_count": 133,
   "metadata": {
    "id": "PD4FhFf-1ck1"
   },
   "outputs": [],
   "source": [
    "# Import libraries \n",
    "\n",
    "# Data Manipulation\n",
    "import numpy as np \n",
    "import pandas as pd\n",
    "from   pandas import DataFrame\n",
    "\n",
    "# Data Visualization\n",
    "import seaborn as sns\n",
    "import matplotlib.pyplot as plt\n",
    "\n",
    "# Machine Learning\n",
    "from   sklearn.preprocessing import LabelEncoder, StandardScaler, OrdinalEncoder\n",
    "from   sklearn.impute import SimpleImputer\n",
    "from   sklearn.model_selection import train_test_split, GridSearchCV\n",
    "from   sklearn.metrics import confusion_matrix , classification_report, accuracy_score, roc_auc_score, plot_roc_curve,f1_score,precision_score,recall_score\n",
    "from   sklearn.linear_model import LogisticRegression\n",
    "from   sklearn.tree import DecisionTreeClassifier\n",
    "from   sklearn.ensemble import RandomForestClassifier\n",
    "from   xgboost import XGBClassifier\n",
    "from   imblearn.over_sampling import RandomOverSampler\n",
    "import pickle\n",
    "\n",
    "# Maths\n",
    "import math\n",
    "\n",
    "# Set the options\n",
    "pd.set_option('display.max_rows', 800)\n",
    "pd.set_option('display.max_columns', 500)\n",
    "%matplotlib inline"
   ]
  },
  {
   "cell_type": "markdown",
   "metadata": {
    "id": "tCmOHLQ71ck2"
   },
   "source": [
    "### 1.2. Load the datasets\n",
    "\n",
    "Load the dataset using pd.read_csv()"
   ]
  },
  {
   "cell_type": "code",
   "execution_count": 134,
   "metadata": {
    "id": "lumwjIQr1ck2",
    "outputId": "1a064bc8-67ec-4028-ad88-a9fa0c9d991f"
   },
   "outputs": [
    {
     "data": {
      "text/html": [
       "<div>\n",
       "<style scoped>\n",
       "    .dataframe tbody tr th:only-of-type {\n",
       "        vertical-align: middle;\n",
       "    }\n",
       "\n",
       "    .dataframe tbody tr th {\n",
       "        vertical-align: top;\n",
       "    }\n",
       "\n",
       "    .dataframe thead th {\n",
       "        text-align: right;\n",
       "    }\n",
       "</style>\n",
       "<table border=\"1\" class=\"dataframe\">\n",
       "  <thead>\n",
       "    <tr style=\"text-align: right;\">\n",
       "      <th></th>\n",
       "      <th>num_preg</th>\n",
       "      <th>glucose_conc</th>\n",
       "      <th>diastolic_bp</th>\n",
       "      <th>thickness</th>\n",
       "      <th>insulin</th>\n",
       "      <th>bmi</th>\n",
       "      <th>diab_pred</th>\n",
       "      <th>age</th>\n",
       "      <th>skin</th>\n",
       "      <th>diabetes</th>\n",
       "    </tr>\n",
       "  </thead>\n",
       "  <tbody>\n",
       "    <tr>\n",
       "      <th>0</th>\n",
       "      <td>6</td>\n",
       "      <td>148</td>\n",
       "      <td>72</td>\n",
       "      <td>35</td>\n",
       "      <td>0</td>\n",
       "      <td>33.6</td>\n",
       "      <td>0.627</td>\n",
       "      <td>50</td>\n",
       "      <td>1.3790</td>\n",
       "      <td>True</td>\n",
       "    </tr>\n",
       "    <tr>\n",
       "      <th>1</th>\n",
       "      <td>1</td>\n",
       "      <td>85</td>\n",
       "      <td>66</td>\n",
       "      <td>29</td>\n",
       "      <td>0</td>\n",
       "      <td>26.6</td>\n",
       "      <td>0.351</td>\n",
       "      <td>31</td>\n",
       "      <td>1.1426</td>\n",
       "      <td>False</td>\n",
       "    </tr>\n",
       "    <tr>\n",
       "      <th>2</th>\n",
       "      <td>8</td>\n",
       "      <td>183</td>\n",
       "      <td>64</td>\n",
       "      <td>0</td>\n",
       "      <td>0</td>\n",
       "      <td>23.3</td>\n",
       "      <td>0.672</td>\n",
       "      <td>32</td>\n",
       "      <td>0.0000</td>\n",
       "      <td>True</td>\n",
       "    </tr>\n",
       "    <tr>\n",
       "      <th>3</th>\n",
       "      <td>1</td>\n",
       "      <td>89</td>\n",
       "      <td>66</td>\n",
       "      <td>23</td>\n",
       "      <td>94</td>\n",
       "      <td>28.1</td>\n",
       "      <td>0.167</td>\n",
       "      <td>21</td>\n",
       "      <td>0.9062</td>\n",
       "      <td>False</td>\n",
       "    </tr>\n",
       "    <tr>\n",
       "      <th>4</th>\n",
       "      <td>0</td>\n",
       "      <td>137</td>\n",
       "      <td>40</td>\n",
       "      <td>35</td>\n",
       "      <td>168</td>\n",
       "      <td>43.1</td>\n",
       "      <td>2.288</td>\n",
       "      <td>33</td>\n",
       "      <td>1.3790</td>\n",
       "      <td>True</td>\n",
       "    </tr>\n",
       "  </tbody>\n",
       "</table>\n",
       "</div>"
      ],
      "text/plain": [
       "   num_preg  glucose_conc  diastolic_bp  thickness  insulin   bmi  diab_pred  \\\n",
       "0         6           148            72         35        0  33.6      0.627   \n",
       "1         1            85            66         29        0  26.6      0.351   \n",
       "2         8           183            64          0        0  23.3      0.672   \n",
       "3         1            89            66         23       94  28.1      0.167   \n",
       "4         0           137            40         35      168  43.1      2.288   \n",
       "\n",
       "   age    skin  diabetes  \n",
       "0   50  1.3790      True  \n",
       "1   31  1.1426     False  \n",
       "2   32  0.0000      True  \n",
       "3   21  0.9062     False  \n",
       "4   33  1.3790      True  "
      ]
     },
     "execution_count": 134,
     "metadata": {},
     "output_type": "execute_result"
    }
   ],
   "source": [
    "# Read data in form of a csv file\n",
    "df = pd.read_csv(\"./data/pima-data.csv\")\n",
    "\n",
    "# First 5 rows of the dataset\n",
    "df.head()"
   ]
  },
  {
   "cell_type": "markdown",
   "metadata": {
    "id": "pjR4bzK81ck4"
   },
   "source": [
    "<div class=\"alert alert-info\" style=\"background-color:#006a79; color:white; padding:0px 10px; border-radius:5px;\"><h2 style='margin:10px 5px'>2. Overview of the Data</h2>\n",
    "</div>\n",
    "\n",
    "Before attempting to solve the problem, it's very important to have a good understanding of data.\n",
    "\n",
    "In this section you will:\n",
    "- Get the descriptive statistics of the data\n",
    "- Get the information about missing values in the data"
   ]
  },
  {
   "cell_type": "markdown",
   "metadata": {
    "id": "wo4eKaKC1ck6"
   },
   "source": [
    "### 2.1. Descriptive Statistics\n",
    "\n",
    "As the name says descriptive statistics describes the data. It gives you information about\n",
    "- Mean, median, mode \n",
    "- Min, max\n",
    "- Count etc\n",
    "\n",
    "Let's understand the data we have"
   ]
  },
  {
   "cell_type": "code",
   "execution_count": 135,
   "metadata": {
    "id": "GMMPfvip1ck6",
    "outputId": "afe15684-9549-4855-9d3e-21a304a9f9af"
   },
   "outputs": [
    {
     "data": {
      "text/plain": [
       "(768, 10)"
      ]
     },
     "execution_count": 135,
     "metadata": {},
     "output_type": "execute_result"
    }
   ],
   "source": [
    "# Dimension of the data\n",
    "df.shape"
   ]
  },
  {
   "cell_type": "code",
   "execution_count": 136,
   "metadata": {},
   "outputs": [
    {
     "name": "stdout",
     "output_type": "stream",
     "text": [
      "<class 'pandas.core.frame.DataFrame'>\n",
      "RangeIndex: 768 entries, 0 to 767\n",
      "Data columns (total 10 columns):\n",
      " #   Column        Non-Null Count  Dtype  \n",
      "---  ------        --------------  -----  \n",
      " 0   num_preg      768 non-null    int64  \n",
      " 1   glucose_conc  768 non-null    int64  \n",
      " 2   diastolic_bp  768 non-null    int64  \n",
      " 3   thickness     768 non-null    int64  \n",
      " 4   insulin       768 non-null    int64  \n",
      " 5   bmi           768 non-null    float64\n",
      " 6   diab_pred     768 non-null    float64\n",
      " 7   age           768 non-null    int64  \n",
      " 8   skin          768 non-null    float64\n",
      " 9   diabetes      768 non-null    bool   \n",
      "dtypes: bool(1), float64(3), int64(6)\n",
      "memory usage: 54.9 KB\n"
     ]
    }
   ],
   "source": [
    "df.info()"
   ]
  },
  {
   "cell_type": "code",
   "execution_count": 137,
   "metadata": {
    "id": "wmkTixmK1ck7",
    "outputId": "cf159098-8961-4e03-ce1b-1286687019c9"
   },
   "outputs": [
    {
     "data": {
      "text/html": [
       "<div>\n",
       "<style scoped>\n",
       "    .dataframe tbody tr th:only-of-type {\n",
       "        vertical-align: middle;\n",
       "    }\n",
       "\n",
       "    .dataframe tbody tr th {\n",
       "        vertical-align: top;\n",
       "    }\n",
       "\n",
       "    .dataframe thead th {\n",
       "        text-align: right;\n",
       "    }\n",
       "</style>\n",
       "<table border=\"1\" class=\"dataframe\">\n",
       "  <thead>\n",
       "    <tr style=\"text-align: right;\">\n",
       "      <th></th>\n",
       "      <th>num_preg</th>\n",
       "      <th>glucose_conc</th>\n",
       "      <th>diastolic_bp</th>\n",
       "      <th>thickness</th>\n",
       "      <th>insulin</th>\n",
       "      <th>bmi</th>\n",
       "      <th>diab_pred</th>\n",
       "      <th>age</th>\n",
       "      <th>skin</th>\n",
       "    </tr>\n",
       "  </thead>\n",
       "  <tbody>\n",
       "    <tr>\n",
       "      <th>count</th>\n",
       "      <td>768.000000</td>\n",
       "      <td>768.000000</td>\n",
       "      <td>768.000000</td>\n",
       "      <td>768.000000</td>\n",
       "      <td>768.000000</td>\n",
       "      <td>768.000000</td>\n",
       "      <td>768.000000</td>\n",
       "      <td>768.000000</td>\n",
       "      <td>768.000000</td>\n",
       "    </tr>\n",
       "    <tr>\n",
       "      <th>mean</th>\n",
       "      <td>3.845052</td>\n",
       "      <td>120.894531</td>\n",
       "      <td>69.105469</td>\n",
       "      <td>20.536458</td>\n",
       "      <td>79.799479</td>\n",
       "      <td>31.992578</td>\n",
       "      <td>0.471876</td>\n",
       "      <td>33.240885</td>\n",
       "      <td>0.809136</td>\n",
       "    </tr>\n",
       "    <tr>\n",
       "      <th>std</th>\n",
       "      <td>3.369578</td>\n",
       "      <td>31.972618</td>\n",
       "      <td>19.355807</td>\n",
       "      <td>15.952218</td>\n",
       "      <td>115.244002</td>\n",
       "      <td>7.884160</td>\n",
       "      <td>0.331329</td>\n",
       "      <td>11.760232</td>\n",
       "      <td>0.628517</td>\n",
       "    </tr>\n",
       "    <tr>\n",
       "      <th>min</th>\n",
       "      <td>0.000000</td>\n",
       "      <td>0.000000</td>\n",
       "      <td>0.000000</td>\n",
       "      <td>0.000000</td>\n",
       "      <td>0.000000</td>\n",
       "      <td>0.000000</td>\n",
       "      <td>0.078000</td>\n",
       "      <td>21.000000</td>\n",
       "      <td>0.000000</td>\n",
       "    </tr>\n",
       "    <tr>\n",
       "      <th>25%</th>\n",
       "      <td>1.000000</td>\n",
       "      <td>99.000000</td>\n",
       "      <td>62.000000</td>\n",
       "      <td>0.000000</td>\n",
       "      <td>0.000000</td>\n",
       "      <td>27.300000</td>\n",
       "      <td>0.243750</td>\n",
       "      <td>24.000000</td>\n",
       "      <td>0.000000</td>\n",
       "    </tr>\n",
       "    <tr>\n",
       "      <th>50%</th>\n",
       "      <td>3.000000</td>\n",
       "      <td>117.000000</td>\n",
       "      <td>72.000000</td>\n",
       "      <td>23.000000</td>\n",
       "      <td>30.500000</td>\n",
       "      <td>32.000000</td>\n",
       "      <td>0.372500</td>\n",
       "      <td>29.000000</td>\n",
       "      <td>0.906200</td>\n",
       "    </tr>\n",
       "    <tr>\n",
       "      <th>75%</th>\n",
       "      <td>6.000000</td>\n",
       "      <td>140.250000</td>\n",
       "      <td>80.000000</td>\n",
       "      <td>32.000000</td>\n",
       "      <td>127.250000</td>\n",
       "      <td>36.600000</td>\n",
       "      <td>0.626250</td>\n",
       "      <td>41.000000</td>\n",
       "      <td>1.260800</td>\n",
       "    </tr>\n",
       "    <tr>\n",
       "      <th>max</th>\n",
       "      <td>17.000000</td>\n",
       "      <td>199.000000</td>\n",
       "      <td>122.000000</td>\n",
       "      <td>99.000000</td>\n",
       "      <td>846.000000</td>\n",
       "      <td>67.100000</td>\n",
       "      <td>2.420000</td>\n",
       "      <td>81.000000</td>\n",
       "      <td>3.900600</td>\n",
       "    </tr>\n",
       "  </tbody>\n",
       "</table>\n",
       "</div>"
      ],
      "text/plain": [
       "         num_preg  glucose_conc  diastolic_bp   thickness     insulin  \\\n",
       "count  768.000000    768.000000    768.000000  768.000000  768.000000   \n",
       "mean     3.845052    120.894531     69.105469   20.536458   79.799479   \n",
       "std      3.369578     31.972618     19.355807   15.952218  115.244002   \n",
       "min      0.000000      0.000000      0.000000    0.000000    0.000000   \n",
       "25%      1.000000     99.000000     62.000000    0.000000    0.000000   \n",
       "50%      3.000000    117.000000     72.000000   23.000000   30.500000   \n",
       "75%      6.000000    140.250000     80.000000   32.000000  127.250000   \n",
       "max     17.000000    199.000000    122.000000   99.000000  846.000000   \n",
       "\n",
       "              bmi   diab_pred         age        skin  \n",
       "count  768.000000  768.000000  768.000000  768.000000  \n",
       "mean    31.992578    0.471876   33.240885    0.809136  \n",
       "std      7.884160    0.331329   11.760232    0.628517  \n",
       "min      0.000000    0.078000   21.000000    0.000000  \n",
       "25%     27.300000    0.243750   24.000000    0.000000  \n",
       "50%     32.000000    0.372500   29.000000    0.906200  \n",
       "75%     36.600000    0.626250   41.000000    1.260800  \n",
       "max     67.100000    2.420000   81.000000    3.900600  "
      ]
     },
     "execution_count": 137,
     "metadata": {},
     "output_type": "execute_result"
    }
   ],
   "source": [
    "# Summary of the dataset\n",
    "df.describe()"
   ]
  },
  {
   "cell_type": "markdown",
   "metadata": {
    "id": "94IXReO41ck7"
   },
   "source": [
    "### 2.2 Missing Values\n",
    "\n",
    "Get the info about missing values in the dataframe"
   ]
  },
  {
   "cell_type": "code",
   "execution_count": 138,
   "metadata": {
    "id": "NJZXuzoI1ck8",
    "outputId": "8ed167ec-6a3d-4c2e-f2f1-0049263b9fd8"
   },
   "outputs": [
    {
     "data": {
      "text/plain": [
       "num_preg        0\n",
       "glucose_conc    0\n",
       "diastolic_bp    0\n",
       "thickness       0\n",
       "insulin         0\n",
       "bmi             0\n",
       "diab_pred       0\n",
       "age             0\n",
       "skin            0\n",
       "diabetes        0\n",
       "dtype: int64"
      ]
     },
     "execution_count": 138,
     "metadata": {},
     "output_type": "execute_result"
    }
   ],
   "source": [
    "# Missing values for every column\n",
    "df.isna().sum()"
   ]
  },
  {
   "cell_type": "markdown",
   "metadata": {
    "id": "pACniI3O1ck8"
   },
   "source": [
    "<div class=\"alert alert-info\" style=\"background-color:#006a79; color:white; padding:0px 10px; border-radius:5px;\"><h2 style='margin:10px 5px'>3. Exploratory Data Analaysis</h2>\n",
    "</div>\n",
    "\n",
    "Exploratory data analysis is an approach to analyze or investigate data sets to find out patterns and see if any of the variables can be useful in predicting the y variables. Visual methods are often used to summarise the data. Primarily EDA is for seeing what the data can tell us beyond the formal modeling or hypothesis testing tasks.\n",
    "\n",
    "In this section you will:\n",
    "- Create list of columns by data type\n",
    "- Check the distribution of target class\n",
    "- Check the distribution of every feature\n",
    "- Check how differnt numerical features are realated to target class"
   ]
  },
  {
   "cell_type": "markdown",
   "metadata": {
    "id": "PPHiLUyB1ck-"
   },
   "source": [
    "### 3.1. Extract data types of columns\n",
    "\n",
    "It's better to get the list of columns by data types in the start itself. You won't have to manually write the name of columns while performing certain operations. So always get the list of columns in the start itself."
   ]
  },
  {
   "cell_type": "code",
   "execution_count": 139,
   "metadata": {
    "id": "lecSDx5M1ck-",
    "outputId": "822297ef-303d-45d7-9fef-f4b0f99a7cfe"
   },
   "outputs": [
    {
     "name": "stdout",
     "output_type": "stream",
     "text": [
      "Binary Columns :  ['diabetes']\n",
      "Categorical Columns :  []\n",
      "Numerical Columns :  ['num_preg', 'glucose_conc', 'diastolic_bp', 'thickness', 'insulin', 'bmi', 'diab_pred', 'age', 'skin']\n"
     ]
    }
   ],
   "source": [
    "# Get the list of numeric and categorical columns according to the input\n",
    "input_datatype_selection = 'auto'\n",
    "if input_datatype_selection == \"auto\":\n",
    "\n",
    "    binary_columns = [col for col in df.columns if df[col].nunique() == 2]\n",
    "    print(\"Binary Columns : \", binary_columns)\n",
    "\n",
    "    categorical_columns = [col for col in df.columns if df[col].dtype == \"object\"]\n",
    "    print(\"Categorical Columns : \", categorical_columns)\n",
    "\n",
    "    categorical_columns = binary_columns + categorical_columns\n",
    "    categorical_columns = list(set(categorical_columns))\n",
    "\n",
    "    numerical_columns = [col for col in df.columns if col not in categorical_columns]\n",
    "    print(\"Numerical Columns : \", numerical_columns)\n",
    "    \n",
    "else:\n",
    "    categorical_columns = input_cat_columns\n",
    "    print(\"Categorical Columns : \", categorical_columns)\n",
    "    \n",
    "    numerical_columns   = input_num_columns\n",
    "    print(\"Numerical Columns : \", numerical_columns)"
   ]
  },
  {
   "cell_type": "markdown",
   "metadata": {
    "id": "YYH1hu_h1ck_"
   },
   "source": [
    "**Note :** There might be some mismatch in the data type of the columns, so in such cases you will have to correct it manually"
   ]
  },
  {
   "cell_type": "markdown",
   "metadata": {
    "id": "lRfP28Sz1ck_"
   },
   "source": [
    "### 3.2 Check distribution of target class\n",
    "\n",
    "You need to check the distribution of target class, see how many categories are there, is it balanced or not"
   ]
  },
  {
   "cell_type": "code",
   "execution_count": 140,
   "metadata": {
    "id": "1KD3nXSq1ck_",
    "outputId": "136085a0-d7c2-4f39-f156-57424f74cd35"
   },
   "outputs": [
    {
     "data": {
      "image/png": "[encoded data removed]",
      "text/plain": [
       "<Figure size 432x288 with 1 Axes>"
      ]
     },
     "metadata": {
      "needs_background": "light"
     },
     "output_type": "display_data"
    }
   ],
   "source": [
    "# Check distribution of target class\n",
    "sns.countplot(df['diabetes'])\n",
    "plt.xlabel(\"Count of each Target class\")\n",
    "plt.ylabel(\"Target classes\")\n",
    "plt.show()"
   ]
  },
  {
   "cell_type": "markdown",
   "metadata": {},
   "source": [
    "# Changing the diabetes column data from boolean to number"
   ]
  },
  {
   "cell_type": "code",
   "execution_count": 141,
   "metadata": {},
   "outputs": [],
   "source": [
    "diabetes_map = {True: 1, False: 0}"
   ]
  },
  {
   "cell_type": "code",
   "execution_count": 142,
   "metadata": {},
   "outputs": [],
   "source": [
    "df['diabetes'] = df['diabetes'].map(diabetes_map)"
   ]
  },
  {
   "cell_type": "code",
   "execution_count": 143,
   "metadata": {},
   "outputs": [
    {
     "data": {
      "text/html": [
       "<div>\n",
       "<style scoped>\n",
       "    .dataframe tbody tr th:only-of-type {\n",
       "        vertical-align: middle;\n",
       "    }\n",
       "\n",
       "    .dataframe tbody tr th {\n",
       "        vertical-align: top;\n",
       "    }\n",
       "\n",
       "    .dataframe thead th {\n",
       "        text-align: right;\n",
       "    }\n",
       "</style>\n",
       "<table border=\"1\" class=\"dataframe\">\n",
       "  <thead>\n",
       "    <tr style=\"text-align: right;\">\n",
       "      <th></th>\n",
       "      <th>num_preg</th>\n",
       "      <th>glucose_conc</th>\n",
       "      <th>diastolic_bp</th>\n",
       "      <th>thickness</th>\n",
       "      <th>insulin</th>\n",
       "      <th>bmi</th>\n",
       "      <th>diab_pred</th>\n",
       "      <th>age</th>\n",
       "      <th>skin</th>\n",
       "      <th>diabetes</th>\n",
       "    </tr>\n",
       "  </thead>\n",
       "  <tbody>\n",
       "    <tr>\n",
       "      <th>0</th>\n",
       "      <td>6</td>\n",
       "      <td>148</td>\n",
       "      <td>72</td>\n",
       "      <td>35</td>\n",
       "      <td>0</td>\n",
       "      <td>33.6</td>\n",
       "      <td>0.627</td>\n",
       "      <td>50</td>\n",
       "      <td>1.3790</td>\n",
       "      <td>1</td>\n",
       "    </tr>\n",
       "    <tr>\n",
       "      <th>1</th>\n",
       "      <td>1</td>\n",
       "      <td>85</td>\n",
       "      <td>66</td>\n",
       "      <td>29</td>\n",
       "      <td>0</td>\n",
       "      <td>26.6</td>\n",
       "      <td>0.351</td>\n",
       "      <td>31</td>\n",
       "      <td>1.1426</td>\n",
       "      <td>0</td>\n",
       "    </tr>\n",
       "    <tr>\n",
       "      <th>2</th>\n",
       "      <td>8</td>\n",
       "      <td>183</td>\n",
       "      <td>64</td>\n",
       "      <td>0</td>\n",
       "      <td>0</td>\n",
       "      <td>23.3</td>\n",
       "      <td>0.672</td>\n",
       "      <td>32</td>\n",
       "      <td>0.0000</td>\n",
       "      <td>1</td>\n",
       "    </tr>\n",
       "    <tr>\n",
       "      <th>3</th>\n",
       "      <td>1</td>\n",
       "      <td>89</td>\n",
       "      <td>66</td>\n",
       "      <td>23</td>\n",
       "      <td>94</td>\n",
       "      <td>28.1</td>\n",
       "      <td>0.167</td>\n",
       "      <td>21</td>\n",
       "      <td>0.9062</td>\n",
       "      <td>0</td>\n",
       "    </tr>\n",
       "    <tr>\n",
       "      <th>4</th>\n",
       "      <td>0</td>\n",
       "      <td>137</td>\n",
       "      <td>40</td>\n",
       "      <td>35</td>\n",
       "      <td>168</td>\n",
       "      <td>43.1</td>\n",
       "      <td>2.288</td>\n",
       "      <td>33</td>\n",
       "      <td>1.3790</td>\n",
       "      <td>1</td>\n",
       "    </tr>\n",
       "  </tbody>\n",
       "</table>\n",
       "</div>"
      ],
      "text/plain": [
       "   num_preg  glucose_conc  diastolic_bp  thickness  insulin   bmi  diab_pred  \\\n",
       "0         6           148            72         35        0  33.6      0.627   \n",
       "1         1            85            66         29        0  26.6      0.351   \n",
       "2         8           183            64          0        0  23.3      0.672   \n",
       "3         1            89            66         23       94  28.1      0.167   \n",
       "4         0           137            40         35      168  43.1      2.288   \n",
       "\n",
       "   age    skin  diabetes  \n",
       "0   50  1.3790         1  \n",
       "1   31  1.1426         0  \n",
       "2   32  0.0000         1  \n",
       "3   21  0.9062         0  \n",
       "4   33  1.3790         1  "
      ]
     },
     "execution_count": 143,
     "metadata": {},
     "output_type": "execute_result"
    }
   ],
   "source": [
    "df.head()"
   ]
  },
  {
   "cell_type": "markdown",
   "metadata": {
    "id": "uVVSO8vM1ck_"
   },
   "source": [
    "### 3.3. Check the distribution of every feature"
   ]
  },
  {
   "cell_type": "code",
   "execution_count": 144,
   "metadata": {
    "id": "GA3hL7ho1clA",
    "outputId": "c60a0f52-a726-4c8c-c183-25b55f2189a8"
   },
   "outputs": [
    {
     "data": {
      "image/png": "[encoded data removed]",
      "text/plain": [
       "<Figure size 1080x864 with 12 Axes>"
      ]
     },
     "metadata": {
      "needs_background": "light"
     },
     "output_type": "display_data"
    }
   ],
   "source": [
    "# Check the distribution of all the features\n",
    "df.hist(figsize=(15,12),bins = 15)\n",
    "plt.title(\"Features Distribution\")\n",
    "plt.show()"
   ]
  },
  {
   "cell_type": "markdown",
   "metadata": {
    "id": "K9GS53kt1clB"
   },
   "source": [
    "### 3.4 Check how differnt numerical features are realated to target class"
   ]
  },
  {
   "cell_type": "code",
   "execution_count": 145,
   "metadata": {
    "id": "I8pS1M651clB"
   },
   "outputs": [],
   "source": [
    "# Number of rows and columns in the plot\n",
    "n_cols = 3\n",
    "n_rows = math.ceil(len(numerical_columns)/n_cols)"
   ]
  },
  {
   "cell_type": "code",
   "execution_count": 146,
   "metadata": {
    "id": "caRWkZbJ1clC",
    "outputId": "02aaf105-0141-45f4-e64d-e648b0b4ca50"
   },
   "outputs": [
    {
     "data": {
      "image/png": "[encoded data removed]",
      "text/plain": [
       "<Figure size 1080x1080 with 9 Axes>"
      ]
     },
     "metadata": {
      "needs_background": "light"
     },
     "output_type": "display_data"
    }
   ],
   "source": [
    "# Check the distribution of y variable corresponding to every x variable \n",
    "fig,ax = plt.subplots(nrows = n_rows, ncols = n_cols, figsize=(15,15))\n",
    "row = 0\n",
    "col = 0\n",
    "for i in numerical_columns:\n",
    "    if col > 2:\n",
    "        row += 1\n",
    "        col = 0\n",
    "    axes = ax[row,col]\n",
    "    sns.boxplot(x = df['diabetes'], y = df[i],ax = axes)\n",
    "    col += 1\n",
    "plt.tight_layout()\n",
    "plt.title(\"Individual Features by Class\")\n",
    "plt.show()"
   ]
  },
  {
   "cell_type": "code",
   "execution_count": 147,
   "metadata": {},
   "outputs": [
    {
     "data": {
      "text/plain": [
       "<matplotlib.axes._subplots.AxesSubplot at 0x28de777b848>"
      ]
     },
     "execution_count": 147,
     "metadata": {},
     "output_type": "execute_result"
    },
    {
     "data": {
      "image/png": "[encoded data removed]",
      "text/plain": [
       "<Figure size 1080x720 with 1 Axes>"
      ]
     },
     "metadata": {
      "needs_background": "light"
     },
     "output_type": "display_data"
    }
   ],
   "source": [
    "fig, ax = plt.subplots(figsize=(15,10))\n",
    "sns.boxplot(data=df, width= 0.5,ax=ax,  fliersize=3)\n"
   ]
  },
  {
   "cell_type": "markdown",
   "metadata": {},
   "source": [
    "# Removing outliers"
   ]
  },
  {
   "cell_type": "code",
   "execution_count": 114,
   "metadata": {},
   "outputs": [
    {
     "data": {
      "text/plain": [
       "'from numpy import percentile\\nq25, q75 = percentile(df, 25), percentile(df, 75)\\niqr = q75 - q25\\n\\ncut_off = iqr * 1.5\\nlower, upper = q25 - cut_off, q75 + cut_off\\n\\nfor i in df:\\n    df = df[df[i] > lower]\\n    df = df[df[i] < upper]\\n    '"
      ]
     },
     "execution_count": 114,
     "metadata": {},
     "output_type": "execute_result"
    }
   ],
   "source": [
    "\"\"\"from numpy import percentile\n",
    "q25, q75 = percentile(df, 25), percentile(df, 75)\n",
    "iqr = q75 - q25\n",
    "\n",
    "cut_off = iqr * 1.5\n",
    "lower, upper = q25 - cut_off, q75 + cut_off\n",
    "\n",
    "for i in df:\n",
    "    df = df[df[i] > lower]\n",
    "    df = df[df[i] < upper]\n",
    "    \"\"\""
   ]
  },
  {
   "cell_type": "code",
   "execution_count": 115,
   "metadata": {},
   "outputs": [],
   "source": [
    "q=df['diastolic_bp'].quantile(0.99)\n",
    "df = df[df['diastolic_bp']<q]\n",
    "q=df['glucose_conc'].quantile(0.97)\n",
    "df = df[df['glucose_conc']<q]\n",
    "q=df['insulin'].quantile(0.95)\n",
    "df = df[df['insulin']<q]\n",
    "q=df['bmi'].quantile(0.98)\n",
    "df = df[df['bmi']<q]\n",
    "q=df['age'].quantile(0.95)\n",
    "df = df[df['age']<q]"
   ]
  },
  {
   "cell_type": "code",
   "execution_count": 35,
   "metadata": {},
   "outputs": [
    {
     "data": {
      "text/html": [
       "<div>\n",
       "<style scoped>\n",
       "    .dataframe tbody tr th:only-of-type {\n",
       "        vertical-align: middle;\n",
       "    }\n",
       "\n",
       "    .dataframe tbody tr th {\n",
       "        vertical-align: top;\n",
       "    }\n",
       "\n",
       "    .dataframe thead th {\n",
       "        text-align: right;\n",
       "    }\n",
       "</style>\n",
       "<table border=\"1\" class=\"dataframe\">\n",
       "  <thead>\n",
       "    <tr style=\"text-align: right;\">\n",
       "      <th></th>\n",
       "      <th>num_preg</th>\n",
       "      <th>glucose_conc</th>\n",
       "      <th>diastolic_bp</th>\n",
       "      <th>thickness</th>\n",
       "      <th>insulin</th>\n",
       "      <th>bmi</th>\n",
       "      <th>diab_pred</th>\n",
       "      <th>age</th>\n",
       "      <th>skin</th>\n",
       "      <th>diabetes</th>\n",
       "    </tr>\n",
       "  </thead>\n",
       "  <tbody>\n",
       "    <tr>\n",
       "      <th>1</th>\n",
       "      <td>1</td>\n",
       "      <td>85</td>\n",
       "      <td>66</td>\n",
       "      <td>29</td>\n",
       "      <td>0</td>\n",
       "      <td>26.6</td>\n",
       "      <td>0.351</td>\n",
       "      <td>31</td>\n",
       "      <td>1.1426</td>\n",
       "      <td>0</td>\n",
       "    </tr>\n",
       "    <tr>\n",
       "      <th>3</th>\n",
       "      <td>1</td>\n",
       "      <td>89</td>\n",
       "      <td>66</td>\n",
       "      <td>23</td>\n",
       "      <td>94</td>\n",
       "      <td>28.1</td>\n",
       "      <td>0.167</td>\n",
       "      <td>21</td>\n",
       "      <td>0.9062</td>\n",
       "      <td>0</td>\n",
       "    </tr>\n",
       "    <tr>\n",
       "      <th>5</th>\n",
       "      <td>5</td>\n",
       "      <td>116</td>\n",
       "      <td>74</td>\n",
       "      <td>0</td>\n",
       "      <td>0</td>\n",
       "      <td>25.6</td>\n",
       "      <td>0.201</td>\n",
       "      <td>30</td>\n",
       "      <td>0.0000</td>\n",
       "      <td>0</td>\n",
       "    </tr>\n",
       "    <tr>\n",
       "      <th>6</th>\n",
       "      <td>3</td>\n",
       "      <td>78</td>\n",
       "      <td>50</td>\n",
       "      <td>32</td>\n",
       "      <td>88</td>\n",
       "      <td>31.0</td>\n",
       "      <td>0.248</td>\n",
       "      <td>26</td>\n",
       "      <td>1.2608</td>\n",
       "      <td>1</td>\n",
       "    </tr>\n",
       "    <tr>\n",
       "      <th>7</th>\n",
       "      <td>10</td>\n",
       "      <td>115</td>\n",
       "      <td>0</td>\n",
       "      <td>0</td>\n",
       "      <td>0</td>\n",
       "      <td>35.3</td>\n",
       "      <td>0.134</td>\n",
       "      <td>29</td>\n",
       "      <td>0.0000</td>\n",
       "      <td>0</td>\n",
       "    </tr>\n",
       "  </tbody>\n",
       "</table>\n",
       "</div>"
      ],
      "text/plain": [
       "   num_preg  glucose_conc  diastolic_bp  thickness  insulin   bmi  diab_pred  \\\n",
       "1         1            85            66         29        0  26.6      0.351   \n",
       "3         1            89            66         23       94  28.1      0.167   \n",
       "5         5           116            74          0        0  25.6      0.201   \n",
       "6         3            78            50         32       88  31.0      0.248   \n",
       "7        10           115             0          0        0  35.3      0.134   \n",
       "\n",
       "   age    skin  diabetes  \n",
       "1   31  1.1426         0  \n",
       "3   21  0.9062         0  \n",
       "5   30  0.0000         0  \n",
       "6   26  1.2608         1  \n",
       "7   29  0.0000         0  "
      ]
     },
     "execution_count": 35,
     "metadata": {},
     "output_type": "execute_result"
    }
   ],
   "source": [
    "df.head()"
   ]
  },
  {
   "cell_type": "code",
   "execution_count": 116,
   "metadata": {},
   "outputs": [
    {
     "data": {
      "text/plain": [
       "(648, 10)"
      ]
     },
     "execution_count": 116,
     "metadata": {},
     "output_type": "execute_result"
    }
   ],
   "source": [
    "df.shape"
   ]
  },
  {
   "cell_type": "markdown",
   "metadata": {
    "id": "Jqjpx_rM1clC"
   },
   "source": [
    "<div class=\"alert alert-info\" style=\"background-color:#006a79; color:white; padding:0px 10px; border-radius:5px;\"><h2 style='margin:10px 5px'>4. Data Preparation</h2>\n",
    "</div>\n",
    "\n",
    "The data is not yet ready for model building. You need to process the data and make it ready for model building\n",
    "\n",
    "In this section you will:\n",
    "- Clean the data\n",
    "- Encode the categorical features\n",
    "- Split the dataset in X and y dataset\n",
    "- Scale the features\n",
    "- Split the data in train and test set"
   ]
  },
  {
   "cell_type": "markdown",
   "metadata": {
    "id": "tq-6stRW1clC"
   },
   "source": [
    "### 4.1. Data Cleaning\n",
    "\n",
    "Machine Learning works on the idea of garbage in - garbage out. If you feed in dirty data, the results won't be good. Hence it's very important to clean the data before training the model.\n",
    "\n",
    "**Sklearn algorithms need missing value imputation but XGBoost, LightGBM etc does not require missing value imputation**\n",
    "\n",
    "There are various ways to handle missing values. Some of the ways are:\n",
    "- Drop the rows with missing values\n",
    "- Impute the missing values with mean, median, mode, most frequent category, unknown category etc\n",
    "\n",
    "Here you can decide how you want to handle the missing data"
   ]
  },
  {
   "cell_type": "markdown",
   "metadata": {},
   "source": [
    "# Check how many other missing(zero) values"
   ]
  },
  {
   "cell_type": "code",
   "execution_count": 148,
   "metadata": {},
   "outputs": [
    {
     "name": "stdout",
     "output_type": "stream",
     "text": [
      "total number of rows : 768\n",
      "number of rows missing glucose_conc: 5\n",
      "number of rows missing glucose_conc: 5\n",
      "number of rows missing diastolic_bp: 35\n",
      "number of rows missing insulin: 374\n",
      "number of rows missing bmi: 11\n",
      "number of rows missing diab_pred: 0\n",
      "number of rows missing age: 0\n",
      "number of rows missing skin: 227\n"
     ]
    }
   ],
   "source": [
    "print(\"total number of rows : {0}\".format(len(df)))\n",
    "print(\"number of rows missing glucose_conc: {0}\".format(len(df.loc[df['glucose_conc'] == 0])))\n",
    "print(\"number of rows missing glucose_conc: {0}\".format(len(df.loc[df['glucose_conc'] == 0])))\n",
    "print(\"number of rows missing diastolic_bp: {0}\".format(len(df.loc[df['diastolic_bp'] == 0])))\n",
    "print(\"number of rows missing insulin: {0}\".format(len(df.loc[df['insulin'] == 0])))\n",
    "print(\"number of rows missing bmi: {0}\".format(len(df.loc[df['bmi'] == 0])))\n",
    "print(\"number of rows missing diab_pred: {0}\".format(len(df.loc[df['diab_pred'] == 0])))\n",
    "print(\"number of rows missing age: {0}\".format(len(df.loc[df['age'] == 0])))\n",
    "print(\"number of rows missing skin: {0}\".format(len(df.loc[df['skin'] == 0])))"
   ]
  },
  {
   "cell_type": "code",
   "execution_count": 149,
   "metadata": {
    "id": "HD4yYFX41clC",
    "outputId": "b6f2f3fb-abb9-48f6-c0dd-4aecad8ba717"
   },
   "outputs": [],
   "source": [
    "# Select how you wish to treat missing values according to the input provided\n",
    "input_treat_missing_value ='impute'\n",
    "\n",
    "if input_treat_missing_value == 'drop':\n",
    "    \n",
    "    # drop rows with missing values\n",
    "    df.dropna(inplace=True)\n",
    "    print(df.shape)\n",
    "\n",
    "elif input_treat_missing_value == 'impute': \n",
    "    \n",
    "    # Impute missing values\n",
    "    for col in numerical_columns:\n",
    "        df[col] = df[col].fillna(df[col].mean())\n",
    "    for col in categorical_columns:\n",
    "        df[col] = df[col].fillna(df[col].mode())\n",
    "elif input_treat_missing_value == 'ignore':\n",
    "    print(\"Ignore missing values\")"
   ]
  },
  {
   "cell_type": "code",
   "execution_count": 150,
   "metadata": {
    "id": "rk3oNTHW1clD",
    "outputId": "551288e0-0c56-4abe-c854-814be49ec195"
   },
   "outputs": [
    {
     "data": {
      "text/html": [
       "<div>\n",
       "<style scoped>\n",
       "    .dataframe tbody tr th:only-of-type {\n",
       "        vertical-align: middle;\n",
       "    }\n",
       "\n",
       "    .dataframe tbody tr th {\n",
       "        vertical-align: top;\n",
       "    }\n",
       "\n",
       "    .dataframe thead th {\n",
       "        text-align: right;\n",
       "    }\n",
       "</style>\n",
       "<table border=\"1\" class=\"dataframe\">\n",
       "  <thead>\n",
       "    <tr style=\"text-align: right;\">\n",
       "      <th></th>\n",
       "      <th>num_preg</th>\n",
       "      <th>glucose_conc</th>\n",
       "      <th>diastolic_bp</th>\n",
       "      <th>thickness</th>\n",
       "      <th>insulin</th>\n",
       "      <th>bmi</th>\n",
       "      <th>diab_pred</th>\n",
       "      <th>age</th>\n",
       "      <th>skin</th>\n",
       "      <th>diabetes</th>\n",
       "    </tr>\n",
       "  </thead>\n",
       "  <tbody>\n",
       "    <tr>\n",
       "      <th>0</th>\n",
       "      <td>6</td>\n",
       "      <td>148</td>\n",
       "      <td>72</td>\n",
       "      <td>35</td>\n",
       "      <td>0</td>\n",
       "      <td>33.6</td>\n",
       "      <td>0.627</td>\n",
       "      <td>50</td>\n",
       "      <td>1.3790</td>\n",
       "      <td>1</td>\n",
       "    </tr>\n",
       "    <tr>\n",
       "      <th>1</th>\n",
       "      <td>1</td>\n",
       "      <td>85</td>\n",
       "      <td>66</td>\n",
       "      <td>29</td>\n",
       "      <td>0</td>\n",
       "      <td>26.6</td>\n",
       "      <td>0.351</td>\n",
       "      <td>31</td>\n",
       "      <td>1.1426</td>\n",
       "      <td>0</td>\n",
       "    </tr>\n",
       "    <tr>\n",
       "      <th>2</th>\n",
       "      <td>8</td>\n",
       "      <td>183</td>\n",
       "      <td>64</td>\n",
       "      <td>0</td>\n",
       "      <td>0</td>\n",
       "      <td>23.3</td>\n",
       "      <td>0.672</td>\n",
       "      <td>32</td>\n",
       "      <td>0.0000</td>\n",
       "      <td>1</td>\n",
       "    </tr>\n",
       "    <tr>\n",
       "      <th>3</th>\n",
       "      <td>1</td>\n",
       "      <td>89</td>\n",
       "      <td>66</td>\n",
       "      <td>23</td>\n",
       "      <td>94</td>\n",
       "      <td>28.1</td>\n",
       "      <td>0.167</td>\n",
       "      <td>21</td>\n",
       "      <td>0.9062</td>\n",
       "      <td>0</td>\n",
       "    </tr>\n",
       "    <tr>\n",
       "      <th>4</th>\n",
       "      <td>0</td>\n",
       "      <td>137</td>\n",
       "      <td>40</td>\n",
       "      <td>35</td>\n",
       "      <td>168</td>\n",
       "      <td>43.1</td>\n",
       "      <td>2.288</td>\n",
       "      <td>33</td>\n",
       "      <td>1.3790</td>\n",
       "      <td>1</td>\n",
       "    </tr>\n",
       "  </tbody>\n",
       "</table>\n",
       "</div>"
      ],
      "text/plain": [
       "   num_preg  glucose_conc  diastolic_bp  thickness  insulin   bmi  diab_pred  \\\n",
       "0         6           148            72         35        0  33.6      0.627   \n",
       "1         1            85            66         29        0  26.6      0.351   \n",
       "2         8           183            64          0        0  23.3      0.672   \n",
       "3         1            89            66         23       94  28.1      0.167   \n",
       "4         0           137            40         35      168  43.1      2.288   \n",
       "\n",
       "   age    skin  diabetes  \n",
       "0   50  1.3790         1  \n",
       "1   31  1.1426         0  \n",
       "2   32  0.0000         1  \n",
       "3   21  0.9062         0  \n",
       "4   33  1.3790         1  "
      ]
     },
     "execution_count": 150,
     "metadata": {},
     "output_type": "execute_result"
    }
   ],
   "source": [
    "df.head()"
   ]
  },
  {
   "cell_type": "markdown",
   "metadata": {
    "id": "mRyvhiGh1clG"
   },
   "source": [
    "### 4.3. Split X and y\n",
    "\n",
    "Split the X and y dataset"
   ]
  },
  {
   "cell_type": "code",
   "execution_count": 151,
   "metadata": {
    "id": "kZ4jnIEK1clG"
   },
   "outputs": [],
   "source": [
    "# Split the y variable series and x variables dataset\n",
    "X = df.drop(['diabetes'],axis=1)\n",
    "y = df['diabetes']"
   ]
  },
  {
   "cell_type": "markdown",
   "metadata": {
    "id": "wYN9nye71clH"
   },
   "source": [
    "### 4.4. Feature Scaling\n",
    "\n",
    "It is a technique to standardize the x variables (features) present in the data in a fixed range. It needs to be done before training the model.\n",
    "\n",
    "But if you are using tree based models, you should not go for feature scaling"
   ]
  },
  {
   "cell_type": "code",
   "execution_count": 152,
   "metadata": {
    "id": "qCleFg0h1clH"
   },
   "outputs": [],
   "source": [
    "# Define the function to scale the data using StandardScaler()\n",
    "def scale_data(data):\n",
    "    \n",
    "    scaler = StandardScaler() \n",
    "\n",
    "    # transform data\n",
    "    scaled_data = scaler.fit_transform(data)\n",
    "    scaled_data = DataFrame(scaled_data)\n",
    "\n",
    "    scaled_data.columns = data.columns\n",
    "    \n",
    "    return scaled_data"
   ]
  },
  {
   "cell_type": "code",
   "execution_count": 153,
   "metadata": {
    "id": "_rIdh58t1clI",
    "outputId": "ecc857c7-7f05-4e43-e24d-5938d4b4f5ff"
   },
   "outputs": [
    {
     "data": {
      "text/html": [
       "<div>\n",
       "<style scoped>\n",
       "    .dataframe tbody tr th:only-of-type {\n",
       "        vertical-align: middle;\n",
       "    }\n",
       "\n",
       "    .dataframe tbody tr th {\n",
       "        vertical-align: top;\n",
       "    }\n",
       "\n",
       "    .dataframe thead th {\n",
       "        text-align: right;\n",
       "    }\n",
       "</style>\n",
       "<table border=\"1\" class=\"dataframe\">\n",
       "  <thead>\n",
       "    <tr style=\"text-align: right;\">\n",
       "      <th></th>\n",
       "      <th>num_preg</th>\n",
       "      <th>glucose_conc</th>\n",
       "      <th>diastolic_bp</th>\n",
       "      <th>thickness</th>\n",
       "      <th>insulin</th>\n",
       "      <th>bmi</th>\n",
       "      <th>diab_pred</th>\n",
       "      <th>age</th>\n",
       "      <th>skin</th>\n",
       "    </tr>\n",
       "  </thead>\n",
       "  <tbody>\n",
       "    <tr>\n",
       "      <th>0</th>\n",
       "      <td>0.639947</td>\n",
       "      <td>0.848324</td>\n",
       "      <td>0.149641</td>\n",
       "      <td>0.907270</td>\n",
       "      <td>-0.692891</td>\n",
       "      <td>0.204013</td>\n",
       "      <td>0.468492</td>\n",
       "      <td>1.425995</td>\n",
       "      <td>0.907270</td>\n",
       "    </tr>\n",
       "    <tr>\n",
       "      <th>1</th>\n",
       "      <td>-0.844885</td>\n",
       "      <td>-1.123396</td>\n",
       "      <td>-0.160546</td>\n",
       "      <td>0.530902</td>\n",
       "      <td>-0.692891</td>\n",
       "      <td>-0.684422</td>\n",
       "      <td>-0.365061</td>\n",
       "      <td>-0.190672</td>\n",
       "      <td>0.530902</td>\n",
       "    </tr>\n",
       "    <tr>\n",
       "      <th>2</th>\n",
       "      <td>1.233880</td>\n",
       "      <td>1.943724</td>\n",
       "      <td>-0.263941</td>\n",
       "      <td>-1.288212</td>\n",
       "      <td>-0.692891</td>\n",
       "      <td>-1.103255</td>\n",
       "      <td>0.604397</td>\n",
       "      <td>-0.105584</td>\n",
       "      <td>-1.288212</td>\n",
       "    </tr>\n",
       "    <tr>\n",
       "      <th>3</th>\n",
       "      <td>-0.844885</td>\n",
       "      <td>-0.998208</td>\n",
       "      <td>-0.160546</td>\n",
       "      <td>0.154533</td>\n",
       "      <td>0.123302</td>\n",
       "      <td>-0.494043</td>\n",
       "      <td>-0.920763</td>\n",
       "      <td>-1.041549</td>\n",
       "      <td>0.154533</td>\n",
       "    </tr>\n",
       "    <tr>\n",
       "      <th>4</th>\n",
       "      <td>-1.141852</td>\n",
       "      <td>0.504055</td>\n",
       "      <td>-1.504687</td>\n",
       "      <td>0.907270</td>\n",
       "      <td>0.765836</td>\n",
       "      <td>1.409746</td>\n",
       "      <td>5.484909</td>\n",
       "      <td>-0.020496</td>\n",
       "      <td>0.907270</td>\n",
       "    </tr>\n",
       "  </tbody>\n",
       "</table>\n",
       "</div>"
      ],
      "text/plain": [
       "   num_preg  glucose_conc  diastolic_bp  thickness   insulin       bmi  \\\n",
       "0  0.639947      0.848324      0.149641   0.907270 -0.692891  0.204013   \n",
       "1 -0.844885     -1.123396     -0.160546   0.530902 -0.692891 -0.684422   \n",
       "2  1.233880      1.943724     -0.263941  -1.288212 -0.692891 -1.103255   \n",
       "3 -0.844885     -0.998208     -0.160546   0.154533  0.123302 -0.494043   \n",
       "4 -1.141852      0.504055     -1.504687   0.907270  0.765836  1.409746   \n",
       "\n",
       "   diab_pred       age      skin  \n",
       "0   0.468492  1.425995  0.907270  \n",
       "1  -0.365061 -0.190672  0.530902  \n",
       "2   0.604397 -0.105584 -1.288212  \n",
       "3  -0.920763 -1.041549  0.154533  \n",
       "4   5.484909 -0.020496  0.907270  "
      ]
     },
     "execution_count": 153,
     "metadata": {},
     "output_type": "execute_result"
    }
   ],
   "source": [
    "# Scale X dataset\n",
    "scaled_X = scale_data(X)\n",
    "scaled_X.head()"
   ]
  },
  {
   "cell_type": "markdown",
   "metadata": {
    "id": "UKghxo_m1clI"
   },
   "source": [
    "### 4.5 Train - Test Split\n",
    "\n",
    "Split the dataset in training and test set"
   ]
  },
  {
   "cell_type": "code",
   "execution_count": 154,
   "metadata": {
    "id": "cM3t3msJ1clI"
   },
   "outputs": [],
   "source": [
    "# Split the dataset into the training set and test set\n",
    "X_train, X_test, y_train, y_test = train_test_split(scaled_X, y, test_size = 0.3, random_state = 0)"
   ]
  },
  {
   "cell_type": "markdown",
   "metadata": {
    "id": "qfQmUgFl1clI"
   },
   "source": [
    "<div class=\"alert alert-info\" style=\"background-color:#006a79; color:white; padding:0px 10px; border-radius:5px;\"><h2 style='margin:10px 5px'>5. Model Building</h2>\n",
    "</div>\n",
    "\n",
    "In this section you will:\n",
    "- Train the model on training data\n",
    "- Get the predictions on testing data\n",
    "- Evaluate the performance of model on testing data"
   ]
  },
  {
   "cell_type": "markdown",
   "metadata": {
    "id": "Kbx4cYhM1clJ"
   },
   "source": [
    "### 5.1 Train Model\n",
    "\n",
    "Train the model on training data"
   ]
  },
  {
   "cell_type": "code",
   "execution_count": 155,
   "metadata": {},
   "outputs": [
    {
     "name": "stdout",
     "output_type": "stream",
     "text": [
      "logmodel_Precision :  0.8980891719745223\n",
      "logmodel_Recall :  0.8011363636363636\n",
      "logmodel_F1_Score :  0.8468468468468467\n",
      "logmodel_roc_auc_score :  0.7125580995007746\n",
      "logmodel_accuracy 0.7792207792207793\n"
     ]
    }
   ],
   "source": [
    "from sklearn.linear_model import LogisticRegression\n",
    "from sklearn import metrics\n",
    "logmodel=LogisticRegression(random_state=1)\n",
    "logmodel.fit(X_train,y_train)\n",
    "pred=logmodel.predict(X_test)\n",
    "\n",
    "# Find Accuracy using accuracy_score method\n",
    "logmodel_accuracy = metrics.accuracy_score(y_test, pred)\n",
    "\n",
    "confusionmatrix=confusion_matrix(y_test,pred) \n",
    "\n",
    "true_positive=confusionmatrix[0][0]\n",
    "false_positive=confusionmatrix[0][1]\n",
    "false_negative=confusionmatrix[1][0]\n",
    "true_negative=confusionmatrix[1][1]\n",
    "\n",
    "# Precison\n",
    "Precision = true_positive/(true_positive+false_positive)\n",
    "print('logmodel_Precision : ',Precision)\n",
    "\n",
    "# Recall\n",
    "Recall = true_positive/(true_positive+false_negative)\n",
    "print('logmodel_Recall : ',Recall)\n",
    "\n",
    "# F1 Score\n",
    "logmodel_F1_Score = 2*(Recall * Precision) / (Recall + Precision)\n",
    "print('logmodel_F1_Score : ',logmodel_F1_Score)\n",
    "\n",
    "# Area Under Curve\n",
    "logmodel_auc = roc_auc_score(y_test,pred)\n",
    "print('logmodel_roc_auc_score : ',logmodel_auc)\n",
    "print('logmodel_accuracy',logmodel_accuracy)"
   ]
  },
  {
   "cell_type": "code",
   "execution_count": 156,
   "metadata": {},
   "outputs": [
    {
     "name": "stdout",
     "output_type": "stream",
     "text": [
      "dt_Precision :  0.7770700636942676\n",
      "dt_Recall :  0.7973856209150327\n",
      "dt_F1_Score :  0.7870967741935485\n",
      "dt_roc_auc_score :  0.6790755723876744\n",
      "dt_accuracy 0.7142857142857143\n"
     ]
    }
   ],
   "source": [
    "#Fit the DecisionTreeClassifier.\n",
    "from sklearn.tree import DecisionTreeClassifier\n",
    "dt=DecisionTreeClassifier(criterion='gini',random_state=1)\n",
    "dt.fit(X_train,y_train)\n",
    "pred=dt.predict(X_test)\n",
    "\n",
    "# Find Accuracy using accuracy_score method\n",
    "dt_accuracy =metrics.accuracy_score(y_test, pred)\n",
    "\n",
    "confusionmatrix=confusion_matrix(y_test,pred) \n",
    "\n",
    "true_positive=confusionmatrix[0][0]\n",
    "false_positive=confusionmatrix[0][1]\n",
    "false_negative=confusionmatrix[1][0]\n",
    "true_negative=confusionmatrix[1][1]\n",
    "\n",
    "# Precison\n",
    "Precision = true_positive/(true_positive+false_positive)\n",
    "print('dt_Precision : ',Precision)\n",
    "\n",
    "# Recall\n",
    "Recall = true_positive/(true_positive+false_negative)\n",
    "print('dt_Recall : ',Recall)\n",
    "\n",
    "# F1 Score\n",
    "dt_F1_Score = 2*(Recall * Precision) / (Recall + Precision)\n",
    "print('dt_F1_Score : ',dt_F1_Score)\n",
    "\n",
    "# Area Under Curve\n",
    "dt_auc = roc_auc_score(y_test,pred)\n",
    "print('dt_roc_auc_score : ',dt_auc)\n",
    "print('dt_accuracy',dt_accuracy)"
   ]
  },
  {
   "cell_type": "code",
   "execution_count": 157,
   "metadata": {},
   "outputs": [
    {
     "name": "stdout",
     "output_type": "stream",
     "text": [
      "rf_Precision :  0.89171974522293\n",
      "rf_Recall :  0.8235294117647058\n",
      "rf_F1_Score :  0.8562691131498471\n",
      "rf_roc_auc_score :  0.7431571699087623\n",
      "rf_accuracy 0.7965367965367965\n"
     ]
    }
   ],
   "source": [
    "#Fit the RandomForestClassifier.\n",
    "from sklearn.ensemble import RandomForestClassifier\n",
    "rf=RandomForestClassifier(criterion = 'entropy',random_state=1)\n",
    "rf=rf.fit(X_train,y_train)\n",
    "pred=rf.predict(X_test)\n",
    "\n",
    "# Find Accuracy using accuracy_score method\n",
    "rf_accuracy = metrics.accuracy_score(y_test, pred) \n",
    "\n",
    "confusionmatrix=confusion_matrix(y_test,pred) \n",
    "\n",
    "true_positive=confusionmatrix[0][0]\n",
    "false_positive=confusionmatrix[0][1]\n",
    "false_negative=confusionmatrix[1][0]\n",
    "true_negative=confusionmatrix[1][1]\n",
    "\n",
    "# Precison\n",
    "Precision = true_positive/(true_positive+false_positive)\n",
    "print('rf_Precision : ',Precision)\n",
    "\n",
    "# Recall\n",
    "Recall = true_positive/(true_positive+false_negative)\n",
    "print('rf_Recall : ',Recall)\n",
    "\n",
    "# F1 Score\n",
    "rf_F1_Score = 2*(Recall * Precision) / (Recall + Precision)\n",
    "print('rf_F1_Score : ',rf_F1_Score)\n",
    "\n",
    "# Area Under Curve\n",
    "rf_auc = roc_auc_score(y_test,pred)\n",
    "print('rf_roc_auc_score : ',rf_auc)\n",
    "print('rf_accuracy',rf_accuracy)"
   ]
  },
  {
   "cell_type": "code",
   "execution_count": 158,
   "metadata": {},
   "outputs": [
    {
     "name": "stdout",
     "output_type": "stream",
     "text": [
      "knn_Precision :  0.8726114649681529\n",
      "knn_Recall :  0.8154761904761905\n",
      "knn_F1_Score :  0.8468468468468467\n",
      "knn_roc_auc_score :  0.726846273024617\n",
      "knn_accuracy 0.7792207792207793\n"
     ]
    }
   ],
   "source": [
    "#Fit the KNeighborsClassifier\n",
    "from sklearn.neighbors import KNeighborsClassifier\n",
    "knn=KNeighborsClassifier( n_neighbors=5,p=2) #p=2 means euclidean distance\n",
    "knn.fit(X_train,y_train)\n",
    "pred=knn.predict(X_test)\n",
    "\n",
    "# Find Accuracy using accuracy_score method\n",
    "knn_accuracy = metrics.accuracy_score(y_test, pred) \n",
    "\n",
    "\n",
    "confusionmatrix=confusion_matrix(y_test,pred) \n",
    "\n",
    "true_positive=confusionmatrix[0][0]\n",
    "false_positive=confusionmatrix[0][1]\n",
    "false_negative=confusionmatrix[1][0]\n",
    "true_negative=confusionmatrix[1][1]\n",
    "\n",
    "# Precison\n",
    "Precision = true_positive/(true_positive+false_positive)\n",
    "print('knn_Precision : ',Precision)\n",
    "\n",
    "# Recall\n",
    "Recall = true_positive/(true_positive+false_negative)\n",
    "print('knn_Recall : ',Recall)\n",
    "\n",
    "# F1 Score\n",
    "knn_F1_Score = 2*(Recall * Precision) / (Recall + Precision)\n",
    "print('knn_F1_Score : ',logmodel_F1_Score)\n",
    "\n",
    "# Area Under Curve\n",
    "knn_auc = roc_auc_score(y_test,pred)\n",
    "print('knn_roc_auc_score : ',knn_auc)\n",
    "print('knn_accuracy',knn_accuracy)"
   ]
  },
  {
   "cell_type": "code",
   "execution_count": 159,
   "metadata": {},
   "outputs": [
    {
     "name": "stdout",
     "output_type": "stream",
     "text": [
      "svc_Precision :  0.8853503184713376\n",
      "svc_Recall :  0.7853107344632768\n",
      "svc_F1_Score :  0.8323353293413174\n",
      "svc_roc_auc_score :  0.685918402478912\n",
      "svc_accuracy 0.7575757575757576\n"
     ]
    }
   ],
   "source": [
    "#Fit the SVC\n",
    "from sklearn.svm import SVC\n",
    "SVC=SVC(random_state=1, kernel='rbf')\n",
    "SVC.fit(X_train,y_train)\n",
    "pred=SVC.predict(X_test)\n",
    "\n",
    "# Find Accuracy using accuracy_score method\n",
    "svc_accuracy = metrics.accuracy_score(y_test, pred)\n",
    "\n",
    "confusionmatrix=confusion_matrix(y_test,pred) \n",
    "\n",
    "true_positive=confusionmatrix[0][0]\n",
    "false_positive=confusionmatrix[0][1]\n",
    "false_negative=confusionmatrix[1][0]\n",
    "true_negative=confusionmatrix[1][1]\n",
    "\n",
    "# Precison\n",
    "Precision = true_positive/(true_positive+false_positive)\n",
    "print('svc_Precision : ',Precision)\n",
    "\n",
    "# Recall\n",
    "Recall = true_positive/(true_positive+false_negative)\n",
    "print('svc_Recall : ',Recall)\n",
    "\n",
    "# F1 Score\n",
    "svc_F1_Score = 2*(Recall * Precision) / (Recall + Precision)\n",
    "print('svc_F1_Score : ',svc_F1_Score)\n",
    "\n",
    "# Area Under Curve\n",
    "svc_auc = roc_auc_score(y_test,pred)\n",
    "print('svc_roc_auc_score : ',svc_auc)\n",
    "print('svc_accuracy',svc_accuracy)"
   ]
  },
  {
   "cell_type": "code",
   "execution_count": 160,
   "metadata": {},
   "outputs": [
    {
     "name": "stdout",
     "output_type": "stream",
     "text": [
      "nb_Precision :  0.8789808917197452\n",
      "nb_Recall :  0.7976878612716763\n",
      "nb_F1_Score :  0.8363636363636364\n",
      "nb_roc_auc_score :  0.7030039593733861\n",
      "nb_accuracy 0.7662337662337663\n"
     ]
    }
   ],
   "source": [
    "#Fit the naive_bayes\n",
    "from sklearn.naive_bayes import GaussianNB\n",
    "nb=GaussianNB()\n",
    "nb.fit(X_train,y_train)\n",
    "pred=nb.predict(X_test)\n",
    "\n",
    "# Find Accuracy using accuracy_score method\n",
    "nb_accuracy =metrics.accuracy_score(y_test, pred)\n",
    "\n",
    "confusionmatrix=confusion_matrix(y_test,pred) \n",
    "\n",
    "true_positive=confusionmatrix[0][0]\n",
    "false_positive=confusionmatrix[0][1]\n",
    "false_negative=confusionmatrix[1][0]\n",
    "true_negative=confusionmatrix[1][1]\n",
    "\n",
    "# Precison\n",
    "Precision = true_positive/(true_positive+false_positive)\n",
    "print('nb_Precision : ',Precision)\n",
    "\n",
    "# Recall\n",
    "Recall = true_positive/(true_positive+false_negative)\n",
    "print('nb_Recall : ',Recall)\n",
    "\n",
    "# F1 Score\n",
    "nb_F1_Score = 2*(Recall * Precision) / (Recall + Precision)\n",
    "print('nb_F1_Score : ',nb_F1_Score)\n",
    "\n",
    "# Area Under Curve\n",
    "nb_auc = roc_auc_score(y_test,pred)\n",
    "print('nb_roc_auc_score : ',nb_auc)\n",
    "print('nb_accuracy',nb_accuracy)"
   ]
  },
  {
   "cell_type": "code",
   "execution_count": 161,
   "metadata": {},
   "outputs": [
    {
     "name": "stdout",
     "output_type": "stream",
     "text": [
      "[15:16:25] WARNING: C:\\Users\\Administrator\\workspace\\xgboost-win64_release_1.1.0\\src\\learner.cc:480: \n",
      "Parameters: { criterion } might not be used.\n",
      "\n",
      "  This may not be accurate due to some parameters are only used in language bindings but\n",
      "  passed down to XGBoost core.  Or some parameters are not used but slip through this\n",
      "  verification. Please open an issue if you find above cases.\n",
      "\n",
      "\n",
      "xgb_Precision :  0.802547770700637\n",
      "xgb_Recall :  0.8181818181818182\n",
      "xgb_F1_Score :  0.8102893890675242\n",
      "xgb_roc_auc_score :  0.7120846961611293\n"
     ]
    }
   ],
   "source": [
    "#Fit the xgb\n",
    "from xgboost import XGBClassifier\n",
    "xgb = XGBClassifier(criterion='gini',max_depth=5, n_estimators=50)\n",
    "xgb.fit(X_train, y_train)\n",
    "pred=xgb.predict(X_test)\n",
    "\n",
    "# Find Accuracy using accuracy_score method\n",
    "xgb_accuracy = metrics.accuracy_score(y_test, pred) \n",
    "\n",
    "confusionmatrix=confusion_matrix(y_test,pred) \n",
    "\n",
    "true_positive=confusionmatrix[0][0]\n",
    "false_positive=confusionmatrix[0][1]\n",
    "false_negative=confusionmatrix[1][0]\n",
    "true_negative=confusionmatrix[1][1]\n",
    "\n",
    "# Precison\n",
    "Precision = true_positive/(true_positive+false_positive)\n",
    "print('xgb_Precision : ',Precision)\n",
    "\n",
    "# Recall\n",
    "Recall = true_positive/(true_positive+false_negative)\n",
    "print('xgb_Recall : ',Recall)\n",
    "\n",
    "# F1 Score\n",
    "xgb_F1_Score = 2*(Recall * Precision) / (Recall + Precision)\n",
    "print('xgb_F1_Score : ',xgb_F1_Score)\n",
    "\n",
    "# Area Under Curve\n",
    "xgb_auc = roc_auc_score(y_test,pred)\n",
    "print('xgb_roc_auc_score : ',xgb_auc)\n"
   ]
  },
  {
   "cell_type": "code",
   "execution_count": 162,
   "metadata": {},
   "outputs": [
    {
     "name": "stdout",
     "output_type": "stream",
     "text": [
      "sgd_Precision :  0.7579617834394905\n",
      "sgd_Recall :  0.7531645569620253\n",
      "sgd_F1_Score :  0.7555555555555556\n",
      "sgd_roc_auc_score :  0.6154673782062318\n",
      "sgd_accuracy 0.6666666666666666\n"
     ]
    }
   ],
   "source": [
    "#Fit the sgd\n",
    "from sklearn.linear_model import SGDClassifier\n",
    "sgd =  SGDClassifier(loss='modified_huber', shuffle=True,random_state=101)\n",
    "sgd.fit(X_train,y_train)\n",
    "pred=sgd.predict(X_test)\n",
    "\n",
    "# Find Accuracy using accuracy_score method\n",
    "sgd_accuracy = metrics.accuracy_score(y_test, pred) \n",
    "\n",
    "\n",
    "confusionmatrix=confusion_matrix(y_test,pred) \n",
    "\n",
    "true_positive=confusionmatrix[0][0]\n",
    "false_positive=confusionmatrix[0][1]\n",
    "false_negative=confusionmatrix[1][0]\n",
    "true_negative=confusionmatrix[1][1]\n",
    "\n",
    "# Precison\n",
    "Precision = true_positive/(true_positive+false_positive)\n",
    "print('sgd_Precision : ',Precision)\n",
    "\n",
    "# Recall\n",
    "Recall = true_positive/(true_positive+false_negative)\n",
    "print('sgd_Recall : ',Recall)\n",
    "\n",
    "# F1 Score\n",
    "sgd_F1_Score = 2*(Recall * Precision) / (Recall + Precision)\n",
    "print('sgd_F1_Score : ',sgd_F1_Score)\n",
    "\n",
    "# Area Under Curve\n",
    "sgd_auc = roc_auc_score(y_test,pred)\n",
    "print('sgd_roc_auc_score : ',sgd_auc)\n",
    "print('sgd_accuracy',sgd_accuracy)"
   ]
  },
  {
   "cell_type": "code",
   "execution_count": 163,
   "metadata": {},
   "outputs": [
    {
     "data": {
      "text/html": [
       "<div>\n",
       "<style scoped>\n",
       "    .dataframe tbody tr th:only-of-type {\n",
       "        vertical-align: middle;\n",
       "    }\n",
       "\n",
       "    .dataframe tbody tr th {\n",
       "        vertical-align: top;\n",
       "    }\n",
       "\n",
       "    .dataframe thead th {\n",
       "        text-align: right;\n",
       "    }\n",
       "</style>\n",
       "<table border=\"1\" class=\"dataframe\">\n",
       "  <thead>\n",
       "    <tr style=\"text-align: right;\">\n",
       "      <th></th>\n",
       "      <th>Model</th>\n",
       "      <th>Accuracy</th>\n",
       "      <th>roc_auc_score</th>\n",
       "      <th>F1_score</th>\n",
       "    </tr>\n",
       "  </thead>\n",
       "  <tbody>\n",
       "    <tr>\n",
       "      <th>0</th>\n",
       "      <td>Random Forest</td>\n",
       "      <td>0.796537</td>\n",
       "      <td>0.743157</td>\n",
       "      <td>0.856269</td>\n",
       "    </tr>\n",
       "    <tr>\n",
       "      <th>1</th>\n",
       "      <td>K-Nearest Neighbor</td>\n",
       "      <td>0.779221</td>\n",
       "      <td>0.726846</td>\n",
       "      <td>0.843077</td>\n",
       "    </tr>\n",
       "    <tr>\n",
       "      <th>2</th>\n",
       "      <td>Logistic Regression</td>\n",
       "      <td>0.779221</td>\n",
       "      <td>0.712558</td>\n",
       "      <td>0.846847</td>\n",
       "    </tr>\n",
       "    <tr>\n",
       "      <th>3</th>\n",
       "      <td>XGBClassifier</td>\n",
       "      <td>0.744589</td>\n",
       "      <td>0.712085</td>\n",
       "      <td>0.810289</td>\n",
       "    </tr>\n",
       "    <tr>\n",
       "      <th>4</th>\n",
       "      <td>SGDClassifier</td>\n",
       "      <td>0.766234</td>\n",
       "      <td>0.703004</td>\n",
       "      <td>0.836364</td>\n",
       "    </tr>\n",
       "    <tr>\n",
       "      <th>5</th>\n",
       "      <td>Support Vector Machine</td>\n",
       "      <td>0.757576</td>\n",
       "      <td>0.685918</td>\n",
       "      <td>0.832335</td>\n",
       "    </tr>\n",
       "    <tr>\n",
       "      <th>6</th>\n",
       "      <td>Decision Tree</td>\n",
       "      <td>0.714286</td>\n",
       "      <td>0.679076</td>\n",
       "      <td>0.787097</td>\n",
       "    </tr>\n",
       "    <tr>\n",
       "      <th>7</th>\n",
       "      <td>Naive Bayes</td>\n",
       "      <td>0.666667</td>\n",
       "      <td>0.615467</td>\n",
       "      <td>0.755556</td>\n",
       "    </tr>\n",
       "  </tbody>\n",
       "</table>\n",
       "</div>"
      ],
      "text/plain": [
       "                    Model  Accuracy  roc_auc_score  F1_score\n",
       "0           Random Forest  0.796537       0.743157  0.856269\n",
       "1      K-Nearest Neighbor  0.779221       0.726846  0.843077\n",
       "2     Logistic Regression  0.779221       0.712558  0.846847\n",
       "3           XGBClassifier  0.744589       0.712085  0.810289\n",
       "4           SGDClassifier  0.766234       0.703004  0.836364\n",
       "5  Support Vector Machine  0.757576       0.685918  0.832335\n",
       "6           Decision Tree  0.714286       0.679076  0.787097\n",
       "7             Naive Bayes  0.666667       0.615467  0.755556"
      ]
     },
     "execution_count": 163,
     "metadata": {},
     "output_type": "execute_result"
    }
   ],
   "source": [
    "Model_Comparison = pd.DataFrame({\n",
    "    'Model': ['Logistic Regression', 'Support Vector Machine', 'K-Nearest Neighbor', 'Decision Tree', 'Random Forest','SGDClassifier','Naive Bayes','XGBClassifier'],\n",
    "    'Accuracy': [logmodel_accuracy, svc_accuracy, knn_accuracy,dt_accuracy, rf_accuracy, nb_accuracy, sgd_accuracy, xgb_accuracy],\n",
    "    'roc_auc_score': [logmodel_auc, svc_auc, knn_auc, dt_auc, rf_auc, nb_auc, sgd_auc, xgb_auc],\n",
    "    'F1_score':[logmodel_F1_Score, svc_F1_Score, knn_F1_Score, dt_F1_Score, rf_F1_Score, nb_F1_Score, sgd_F1_Score, xgb_F1_Score]})\n",
    "\n",
    "Model_Comparison_df = Model_Comparison.sort_values(by='roc_auc_score', ascending=False)\n",
    "Model_Comparison_df = Model_Comparison_df.set_index('Model')\n",
    "Model_Comparison_df.reset_index()"
   ]
  },
  {
   "cell_type": "code",
   "execution_count": 164,
   "metadata": {},
   "outputs": [
    {
     "data": {
      "text/plain": [
       "\"from sklearn.cluster import KMeans\\nwcss=[]\\nfor i in range(1,11):\\n    kmeans=KMeans(n_clusters=i,init='k-means++',random_state=42)\\n    kmeans.fit(X)\\n    wcss.append(kmeans.inertia_)\\nplt.plot(range(1,11),wcss)\\nplt.title('The Elbow Method')\\nplt.xlabel('Number of clusters')\\nplt.ylabel('WCSS')\\nplt.show()\""
      ]
     },
     "execution_count": 164,
     "metadata": {},
     "output_type": "execute_result"
    }
   ],
   "source": [
    "\"\"\"from sklearn.cluster import KMeans\n",
    "wcss=[]\n",
    "for i in range(1,11):\n",
    "    kmeans=KMeans(n_clusters=i,init='k-means++',random_state=42)\n",
    "    kmeans.fit(X)\n",
    "    wcss.append(kmeans.inertia_)\n",
    "plt.plot(range(1,11),wcss)\n",
    "plt.title('The Elbow Method')\n",
    "plt.xlabel('Number of clusters')\n",
    "plt.ylabel('WCSS')\n",
    "plt.show()\"\"\""
   ]
  },
  {
   "cell_type": "code",
   "execution_count": 165,
   "metadata": {},
   "outputs": [
    {
     "data": {
      "text/plain": [
       "\"from kneed import KneeLocator\\ns=KneeLocator(range(1, 11), wcss, curve='convex', direction='decreasing')\\ns.knee\""
      ]
     },
     "execution_count": 165,
     "metadata": {},
     "output_type": "execute_result"
    }
   ],
   "source": [
    "\"\"\"from kneed import KneeLocator\n",
    "s=KneeLocator(range(1, 11), wcss, curve='convex', direction='decreasing')\n",
    "s.knee\"\"\""
   ]
  },
  {
   "cell_type": "code",
   "execution_count": 166,
   "metadata": {},
   "outputs": [
    {
     "data": {
      "text/plain": [
       "\"import pickle\\nkmeans = KMeans(n_clusters =s.knee, init = 'k-means++', random_state = 42)\\nwith open( 'kmeans.sav', 'wb') as f:\\n    pickle.dump(kmeans,f)\\ny_kmeans = kmeans.fit_predict(X)\""
      ]
     },
     "execution_count": 166,
     "metadata": {},
     "output_type": "execute_result"
    }
   ],
   "source": [
    "\"\"\"import pickle\n",
    "kmeans = KMeans(n_clusters =s.knee, init = 'k-means++', random_state = 42)\n",
    "with open( 'kmeans.sav', 'wb') as f:\n",
    "    pickle.dump(kmeans,f)\n",
    "y_kmeans = kmeans.fit_predict(X)\"\"\""
   ]
  },
  {
   "cell_type": "code",
   "execution_count": 167,
   "metadata": {},
   "outputs": [
    {
     "data": {
      "text/plain": [
       "\"x=X\\nx['Cluster']=y_kmeans\\nx['Labels']=y\\nlist_of_clusters=x['Cluster'].unique()\\nx.head()\""
      ]
     },
     "execution_count": 167,
     "metadata": {},
     "output_type": "execute_result"
    }
   ],
   "source": [
    "\"\"\"x=X\n",
    "x['Cluster']=y_kmeans\n",
    "x['Labels']=y\n",
    "list_of_clusters=x['Cluster'].unique()\n",
    "x.head()\"\"\""
   ]
  },
  {
   "cell_type": "code",
   "execution_count": 168,
   "metadata": {},
   "outputs": [
    {
     "data": {
      "text/plain": [
       "\"model_name=[]\\nfor i in list_of_clusters:\\n    cluster_data=x[x['Cluster']==i] \\n    cluster_features=cluster_data.drop(['Labels','Cluster'],axis=1)\\n    cluster_label= cluster_data['Labels']\\n    x_train, x_test, y_train, y_test = train_test_split(cluster_features, cluster_label, test_size=.25, random_state=36)\\n    \\n# creating a new model with RandomForestClassifier\\n    from sklearn.ensemble import RandomForestClassifier\\n    rf=RandomForestClassifier(criterion = 'entropy',random_state=1)\\n    rt=rf.fit(x_train,y_train)\\n    # Predictions using the RandomForestClassifier Model\\n    prediction_rf=rf.predict(x_test)\\n    \\n    if len(y_test.unique()) == 1:#if there is only one label in y, then roc_auc_score returns error. We will use accuracy in that case\\n        rf_score = accuracy_score(y_test,prediction_svm)\\n        print('rf_score',rf_score)\\n    else:\\n        rf_score = roc_auc_score(y_test, prediction_rf) # AUC for Random Forest\\n        print('rf_score',rf_score)\\n               \\n\\n# creating a new model with XGBClassifier\\n    xgb = XGBClassifier(criterion='gini',max_depth=5, n_estimators=50)\\n    xgb.fit(x_train, y_train)\\n    # Predictions using the XGBClassifier Model\\n    prediction_xgboost = xgb.predict(x_test)  \\n    if len(y_test.unique()) == 1: #if there is only one label in y, then roc_auc_score returns error. We will use accuracy in that case\\n        xgboost_score = accuracy_score(y_test, prediction_xgboost)\\n        print('xgboost_score',xgboost_score)\\n    else:\\n        xgboost_score = roc_auc_score(y_test, prediction_xgboost) # AUC for XGBoost\\n        print('xgboost_score',xgboost_score)\\n                \\n    \\n   #comparing the two models\\n    if(rf_score <  xgboost_score):\\n        print('XGBoost'+str(i))\\n        model_name.append('XGBoost'+str(i) +'.sav')\\n        with open( 'XGBoost'+str(i)+'.sav', 'wb') as f:\\n            pickle.dump(xgb,f)\\n       \\n        \\n    else:\\n        print('RF'+str(i))\\n        model_name.append('rf'+str(i) +'.sav')\\n        with open( 'RF'+str(i)+'.sav', 'wb') as f:\\n            pickle.dump(rf,f)\\nl=model_name\""
      ]
     },
     "execution_count": 168,
     "metadata": {},
     "output_type": "execute_result"
    }
   ],
   "source": [
    "\"\"\"model_name=[]\n",
    "for i in list_of_clusters:\n",
    "    cluster_data=x[x['Cluster']==i] \n",
    "    cluster_features=cluster_data.drop(['Labels','Cluster'],axis=1)\n",
    "    cluster_label= cluster_data['Labels']\n",
    "    x_train, x_test, y_train, y_test = train_test_split(cluster_features, cluster_label, test_size=.25, random_state=36)\n",
    "    \n",
    "# creating a new model with RandomForestClassifier\n",
    "    from sklearn.ensemble import RandomForestClassifier\n",
    "    rf=RandomForestClassifier(criterion = 'entropy',random_state=1)\n",
    "    rt=rf.fit(x_train,y_train)\n",
    "    # Predictions using the RandomForestClassifier Model\n",
    "    prediction_rf=rf.predict(x_test)\n",
    "    \n",
    "    if len(y_test.unique()) == 1:#if there is only one label in y, then roc_auc_score returns error. We will use accuracy in that case\n",
    "        rf_score = accuracy_score(y_test,prediction_svm)\n",
    "        print('rf_score',rf_score)\n",
    "    else:\n",
    "        rf_score = roc_auc_score(y_test, prediction_rf) # AUC for Random Forest\n",
    "        print('rf_score',rf_score)\n",
    "               \n",
    "\n",
    "# creating a new model with XGBClassifier\n",
    "    xgb = XGBClassifier(criterion='gini',max_depth=5, n_estimators=50)\n",
    "    xgb.fit(x_train, y_train)\n",
    "    # Predictions using the XGBClassifier Model\n",
    "    prediction_xgboost = xgb.predict(x_test)  \n",
    "    if len(y_test.unique()) == 1: #if there is only one label in y, then roc_auc_score returns error. We will use accuracy in that case\n",
    "        xgboost_score = accuracy_score(y_test, prediction_xgboost)\n",
    "        print('xgboost_score',xgboost_score)\n",
    "    else:\n",
    "        xgboost_score = roc_auc_score(y_test, prediction_xgboost) # AUC for XGBoost\n",
    "        print('xgboost_score',xgboost_score)\n",
    "                \n",
    "    \n",
    "   #comparing the two models\n",
    "    if(rf_score <  xgboost_score):\n",
    "        print('XGBoost'+str(i))\n",
    "        model_name.append('XGBoost'+str(i) +'.sav')\n",
    "        with open( 'XGBoost'+str(i)+'.sav', 'wb') as f:\n",
    "            pickle.dump(xgb,f)\n",
    "       \n",
    "        \n",
    "    else:\n",
    "        print('RF'+str(i))\n",
    "        model_name.append('rf'+str(i) +'.sav')\n",
    "        with open( 'RF'+str(i)+'.sav', 'wb') as f:\n",
    "            pickle.dump(rf,f)\n",
    "l=model_name\"\"\""
   ]
  },
  {
   "cell_type": "code",
   "execution_count": 169,
   "metadata": {},
   "outputs": [
    {
     "data": {
      "text/plain": [
       "'class prediction:\\n    #def __init__(self):\\n    \\n    def model_prediction(data):\\n        clus=open(\\'kmeans.sav\\',\\'rb\\')\\n        kmeans=pickle.load(clus)\\n\\n\\n        clusters=kmeans.fit_predict(data)\\n        data[\\'clusters\\']=clusters\\n        clusters=data[\\'clusters\\'].unique()\\n        result=[]\\n\\n\\n        def find_correct_model_file(p):\\n            for u in l:\\n                for i in u:\\n                    for k in i:\\n                        if str(p)==str(k):\\n                            return u\\n\\n        for i in clusters:\\n            cluster_data= data[data[\\'clusters\\']==i]\\n            cluster_data = cluster_data.drop([\\'clusters\\'],axis=1)\\n            model_name=find_correct_model_file(i)\\n            model=open(model_name,\\'rb\\')\\n            model=pickle.load(model)\\n            for val in (model.predict(cluster_data)):\\n                result.append(val)\\n        result = pd.DataFrame(result,columns=[\\'Predictions\\'])\\n        path=\"Predictions.csv\"\\n        result.to_csv(\"Predictions.csv\",header=True)\\n        print(result)'"
      ]
     },
     "execution_count": 169,
     "metadata": {},
     "output_type": "execute_result"
    }
   ],
   "source": [
    "\"\"\"class prediction:\n",
    "    #def __init__(self):\n",
    "    \n",
    "    def model_prediction(data):\n",
    "        clus=open('kmeans.sav','rb')\n",
    "        kmeans=pickle.load(clus)\n",
    "\n",
    "\n",
    "        clusters=kmeans.fit_predict(data)\n",
    "        data['clusters']=clusters\n",
    "        clusters=data['clusters'].unique()\n",
    "        result=[]\n",
    "\n",
    "\n",
    "        def find_correct_model_file(p):\n",
    "            for u in l:\n",
    "                for i in u:\n",
    "                    for k in i:\n",
    "                        if str(p)==str(k):\n",
    "                            return u\n",
    "\n",
    "        for i in clusters:\n",
    "            cluster_data= data[data['clusters']==i]\n",
    "            cluster_data = cluster_data.drop(['clusters'],axis=1)\n",
    "            model_name=find_correct_model_file(i)\n",
    "            model=open(model_name,'rb')\n",
    "            model=pickle.load(model)\n",
    "            for val in (model.predict(cluster_data)):\n",
    "                result.append(val)\n",
    "        result = pd.DataFrame(result,columns=['Predictions'])\n",
    "        path=\"Predictions.csv\"\n",
    "        result.to_csv(\"Predictions.csv\",header=True)\n",
    "        print(result)\"\"\""
   ]
  },
  {
   "cell_type": "code",
   "execution_count": 170,
   "metadata": {},
   "outputs": [
    {
     "data": {
      "text/plain": [
       "'a=prediction.model_prediction(X_test)'"
      ]
     },
     "execution_count": 170,
     "metadata": {},
     "output_type": "execute_result"
    }
   ],
   "source": [
    "\"\"\"a=prediction.model_prediction(X_test)\"\"\""
   ]
  },
  {
   "cell_type": "code",
   "execution_count": 171,
   "metadata": {},
   "outputs": [
    {
     "data": {
      "text/plain": [
       "\"a=pd.read_csv('Predictions.csv')\\ndel a['Unnamed: 0']\\na.replace(1,'yes',inplace=True)\\na.replace(0,'no',inplace=True)\""
      ]
     },
     "execution_count": 171,
     "metadata": {},
     "output_type": "execute_result"
    }
   ],
   "source": [
    "\"\"\"a=pd.read_csv('Predictions.csv')\n",
    "del a['Unnamed: 0']\n",
    "a.replace(1,'yes',inplace=True)\n",
    "a.replace(0,'no',inplace=True)\"\"\""
   ]
  },
  {
   "cell_type": "markdown",
   "metadata": {
    "id": "GJWToBtX1clM"
   },
   "source": [
    "<div class=\"alert alert-info\" style=\"background-color:#006a79; color:white; padding:0px 10px; border-radius:5px;\"><h2 style='margin:10px 5px'>6. Improve Model</h2>\n",
    "</div>\n",
    "\n",
    "The first model you make may not be a good one. You need to improve the model. \n",
    "\n",
    "In majority of the classification problems, the target class is imbalanced. So you need to balance it in order to get best modelling results. \n",
    "\n",
    "In this section you will:\n",
    "- Handle class imbalance\n",
    "- Save the final model"
   ]
  },
  {
   "cell_type": "markdown",
   "metadata": {
    "id": "WW4ysUYe1clO"
   },
   "source": [
    "### 6.2. Hyperparameter Tuning\n",
    "\n",
    "**Hyperparameter** is a parameter whose value is set before the learning process begins\n",
    "\n",
    "**Hyperparameter tuning** refers to the automatic optimization of the hyper-parameters of a ML model\n",
    "\n",
    "- Select the parameter grid according to the input provided"
   ]
  },
  {
   "cell_type": "code",
   "execution_count": 172,
   "metadata": {
    "id": "R-njgAlI1clP"
   },
   "outputs": [],
   "source": [
    "# Define the parameters gird for random forest\n",
    "param_grid= {'max_depth'   : [10,20,40],\n",
    "             'criterion' : ['entropy','gini'],\n",
    "             'n_estimators' : [100,200,300],\n",
    "             'min_samples_leaf' : [1,2,5]        \n",
    "                           }  "
   ]
  },
  {
   "cell_type": "code",
   "execution_count": 173,
   "metadata": {
    "id": "5LHsnYGL1clQ",
    "outputId": "8591829d-c17b-4b42-e9f1-6ee168e19d8d"
   },
   "outputs": [
    {
     "name": "stdout",
     "output_type": "stream",
     "text": [
      "Fitting 5 folds for each of 54 candidates, totalling 270 fits\n"
     ]
    },
    {
     "name": "stderr",
     "output_type": "stream",
     "text": [
      "[Parallel(n_jobs=-1)]: Using backend LokyBackend with 8 concurrent workers.\n",
      "[Parallel(n_jobs=-1)]: Done  16 tasks      | elapsed:    6.3s\n",
      "[Parallel(n_jobs=-1)]: Done 112 tasks      | elapsed:   18.6s\n",
      "[Parallel(n_jobs=-1)]: Done 270 out of 270 | elapsed:   41.3s finished\n"
     ]
    },
    {
     "data": {
      "text/plain": [
       "GridSearchCV(cv=None, error_score=nan,\n",
       "             estimator=RandomForestClassifier(bootstrap=True, ccp_alpha=0.0,\n",
       "                                              class_weight=None,\n",
       "                                              criterion='entropy',\n",
       "                                              max_depth=None,\n",
       "                                              max_features='auto',\n",
       "                                              max_leaf_nodes=None,\n",
       "                                              max_samples=None,\n",
       "                                              min_impurity_decrease=0.0,\n",
       "                                              min_impurity_split=None,\n",
       "                                              min_samples_leaf=1,\n",
       "                                              min_samples_split=2,\n",
       "                                              min_weight_fraction_leaf=0.0,\n",
       "                                              n_estimators=100, n_jobs=None,\n",
       "                                              oob_score=False, random_state=1,\n",
       "                                              verbose=0, warm_start=False),\n",
       "             iid='deprecated', n_jobs=-1,\n",
       "             param_grid={'criterion': ['entropy', 'gini'],\n",
       "                         'max_depth': [10, 20, 40],\n",
       "                         'min_samples_leaf': [1, 2, 5],\n",
       "                         'n_estimators': [100, 200, 300]},\n",
       "             pre_dispatch='2*n_jobs', refit=True, return_train_score=False,\n",
       "             scoring=None, verbose=3)"
      ]
     },
     "execution_count": 173,
     "metadata": {},
     "output_type": "execute_result"
    }
   ],
   "source": [
    " # Run grid search \n",
    "grid = GridSearchCV(rf, param_grid, refit = True, verbose = 3, n_jobs = -1) \n",
    "  \n",
    "# fit the model for grid search \n",
    "grid.fit(X_train, y_train)"
   ]
  },
  {
   "cell_type": "code",
   "execution_count": 174,
   "metadata": {
    "id": "QdJN2CPH1clQ",
    "outputId": "bcdeb4cc-7120-4bb2-fc9c-f34a5aff959c"
   },
   "outputs": [
    {
     "name": "stdout",
     "output_type": "stream",
     "text": [
      "Y predicted :  [1 0 0 0 0 0 1 1 0 0 1 1 0 0 0 0 1 0 1 0 1 0 0 0 0 0 0 1 0 0 0 0 0 1 0 1 1\n",
      " 0 0 1 0 0 0 1 1 0 0 0 0 0 0 0 1 1 0 0 0 0 0 0 1 1 0 1 1 0 1 0 1 0 0 0 0 1\n",
      " 1 0 0 1 0 0 0 1 0 0 0 0 0 0 1 0 0 0 0 0 1 0 0 0 0 0 0 0 0 0 0 1 0 0 0 0 0\n",
      " 0 1 1 1 1 0 0 0 1 0 0 0 0 0 0 0 0 0 0 0 0 0 1 0 1 0 0 0 0 0 1 0 0 1 0 0 0\n",
      " 0 0 0 0 0 0 1 0 1 0 0 1 1 0 0 0 1 0 0 0 0 0 0 0 0 0 0 0 0 0 0 0 0 1 0 1 0\n",
      " 0 1 0 1 0 0 0 0 0 0 1 1 0 0 0 0 0 0 0 0 0 0 0 0 0 0 0 0 0 0 0 0 0 0 0 0 0\n",
      " 1 1 1 1 0 0 0 0 1]\n",
      "Y probability predicted :  [0.7777407037407038, 0.12431410256410258, 0.0987470584970585, 0.49903255078255077, 0.1041220139509613]\n"
     ]
    }
   ],
   "source": [
    "# Prediction using best parameters\n",
    "y_pred = grid.predict(X_test)\n",
    "\n",
    "# Predict probability for test dataset\n",
    "y_pred_prod = grid.predict_proba(X_test)\n",
    "y_pred_prod = [x[1] for x in y_pred_prod]\n",
    "print(\"Y predicted : \",y_pred)\n",
    "print(\"Y probability predicted : \",y_pred_prod[:5])"
   ]
  },
  {
   "cell_type": "code",
   "execution_count": 175,
   "metadata": {},
   "outputs": [
    {
     "data": {
      "text/plain": [
       "RandomForestClassifier(bootstrap=True, ccp_alpha=0.0, class_weight=None,\n",
       "                       criterion='gini', max_depth=20, max_features='auto',\n",
       "                       max_leaf_nodes=None, max_samples=None,\n",
       "                       min_impurity_decrease=0.0, min_impurity_split=None,\n",
       "                       min_samples_leaf=5, min_samples_split=2,\n",
       "                       min_weight_fraction_leaf=0.0, n_estimators=100,\n",
       "                       n_jobs=None, oob_score=False, random_state=1, verbose=0,\n",
       "                       warm_start=False)"
      ]
     },
     "execution_count": 175,
     "metadata": {},
     "output_type": "execute_result"
    }
   ],
   "source": [
    "grid.best_estimator_"
   ]
  },
  {
   "cell_type": "code",
   "execution_count": 176,
   "metadata": {},
   "outputs": [],
   "source": [
    "# Define a function to compute various evaluation metrics \n",
    "def compute_evaluation_metric(model, x_test, y_actual, y_predicted, y_predicted_prob):\n",
    "    print(\"\\n Accuracy Score : \\n \",accuracy_score(y_actual,y_predicted))\n",
    "    print(\"\\n AUC Score : \\n\", roc_auc_score(y_actual, y_predicted_prob))\n",
    "    print(\"\\n Confusion Matrix : \\n \",confusion_matrix(y_actual, y_predicted))\n",
    "    print(\"\\n Classification Report : \\n\",classification_report(y_actual, y_predicted))\n",
    "\n",
    "    print(\"\\n ROC curve : \\n\")\n",
    "    sns.set_style(\"white\")\n",
    "    plot_roc_curve(model, x_test, y_actual)\n",
    "    plt.show() "
   ]
  },
  {
   "cell_type": "code",
   "execution_count": 177,
   "metadata": {
    "id": "HjT-Wkmr1clQ",
    "outputId": "cc6e6e27-4c75-44f4-a354-a06df6642137"
   },
   "outputs": [
    {
     "name": "stdout",
     "output_type": "stream",
     "text": [
      "\n",
      " Accuracy Score : \n",
      "  0.7705627705627706\n",
      "\n",
      " AUC Score : \n",
      " 0.8358581511447754\n",
      "\n",
      " Confusion Matrix : \n",
      "  [[140  17]\n",
      " [ 36  38]]\n",
      "\n",
      " Classification Report : \n",
      "               precision    recall  f1-score   support\n",
      "\n",
      "           0       0.80      0.89      0.84       157\n",
      "           1       0.69      0.51      0.59        74\n",
      "\n",
      "    accuracy                           0.77       231\n",
      "   macro avg       0.74      0.70      0.71       231\n",
      "weighted avg       0.76      0.77      0.76       231\n",
      "\n",
      "\n",
      " ROC curve : \n",
      "\n"
     ]
    },
    {
     "data": {
      "image/png": "[encoded data removed]",
      "text/plain": [
       "<Figure size 432x288 with 1 Axes>"
      ]
     },
     "metadata": {},
     "output_type": "display_data"
    }
   ],
   "source": [
    "compute_evaluation_metric(grid, X_test, y_test, y_pred, y_pred_prod)"
   ]
  },
  {
   "cell_type": "markdown",
   "metadata": {
    "id": "TCrNj5G31clR"
   },
   "source": [
    "### 6.3. Save the final model\n",
    "\n",
    "You can save the model in local disk and use it whenever you want"
   ]
  },
  {
   "cell_type": "code",
   "execution_count": null,
   "metadata": {},
   "outputs": [],
   "source": []
  },
  {
   "cell_type": "code",
   "execution_count": 178,
   "metadata": {
    "id": "vvdyX-FI1clR"
   },
   "outputs": [],
   "source": [
    "# save the model to disk\n",
    "filename = 'final_model.sav'\n",
    "pickle.dump(grid.best_estimator_, open(filename, 'wb'))"
   ]
  },
  {
   "cell_type": "code",
   "execution_count": 179,
   "metadata": {
    "id": "pthEl9571clR",
    "outputId": "f313aa74-957a-41c6-e5e6-db5525dd265a"
   },
   "outputs": [
    {
     "data": {
      "text/plain": [
       "RandomForestClassifier(bootstrap=True, ccp_alpha=0.0, class_weight=None,\n",
       "                       criterion='gini', max_depth=20, max_features='auto',\n",
       "                       max_leaf_nodes=None, max_samples=None,\n",
       "                       min_impurity_decrease=0.0, min_impurity_split=None,\n",
       "                       min_samples_leaf=5, min_samples_split=2,\n",
       "                       min_weight_fraction_leaf=0.0, n_estimators=100,\n",
       "                       n_jobs=None, oob_score=False, random_state=1, verbose=0,\n",
       "                       warm_start=False)"
      ]
     },
     "execution_count": 179,
     "metadata": {},
     "output_type": "execute_result"
    }
   ],
   "source": [
    "# load the model from disk\n",
    "loaded_model = pickle.load(open(filename, 'rb'))\n",
    "loaded_model"
   ]
  },
  {
   "cell_type": "code",
   "execution_count": null,
   "metadata": {},
   "outputs": [],
   "source": []
  }
 ],
 "metadata": {
  "colab": {
   "name": "DataScience_Classification_Project_Template_ML_+-v2.ipynb",
   "provenance": []
  },
  "hide_input": false,
  "kernelspec": {
   "display_name": "Python 3",
   "language": "python",
   "name": "python3"
  },
  "language_info": {
   "codemirror_mode": {
    "name": "ipython",
    "version": 3
   },
   "file_extension": ".py",
   "mimetype": "text/x-python",
   "name": "python",
   "nbconvert_exporter": "python",
   "pygments_lexer": "ipython3",
   "version": "3.7.6"
  },
  "toc": {
   "base_numbering": 1,
   "nav_menu": {},
   "number_sections": false,
   "sideBar": true,
   "skip_h1_title": false,
   "title_cell": "Table of Contents",
   "title_sidebar": "Contents",
   "toc_cell": false,
   "toc_position": {},
   "toc_section_display": true,
   "toc_window_display": true
  },
  "varInspector": {
   "cols": {
    "lenName": 16,
    "lenType": 16,
    "lenVar": 40
   },
   "kernels_config": {
    "python": {
     "delete_cmd_postfix": "",
     "delete_cmd_prefix": "del ",
     "library": "var_list.py",
     "varRefreshCmd": "print(var_dic_list())"
    },
    "r": {
     "delete_cmd_postfix": ") ",
     "delete_cmd_prefix": "rm(",
     "library": "var_list.r",
     "varRefreshCmd": "cat(var_dic_list()) "
    }
   },
   "types_to_exclude": [
    "module",
    "function",
    "builtin_function_or_method",
    "instance",
    "_Feature"
   ],
   "window_display": false
  }
 },
 "nbformat": 4,
 "nbformat_minor": 1
}
